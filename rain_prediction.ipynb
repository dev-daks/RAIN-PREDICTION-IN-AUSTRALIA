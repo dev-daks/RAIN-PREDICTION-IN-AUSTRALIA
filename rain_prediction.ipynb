{
 "cells": [
  {
   "cell_type": "code",
   "execution_count": 1,
   "id": "95907157",
   "metadata": {},
   "outputs": [],
   "source": [
    "import pandas as pd\n",
    "import numpy as np\n",
    "import matplotlib.pyplot as plt\n",
    "import seaborn as sns \n",
    "import warnings\n",
    "warnings.filterwarnings('ignore')\n",
    "from sklearn.tree import DecisionTreeRegressor\n",
    "from sklearn.ensemble import RandomForestRegressor\n",
    "#from sklearn.svm import svr\n",
    "import os\n",
    "from sklearn.metrics import r2_score"
   ]
  },
  {
   "cell_type": "code",
   "execution_count": 2,
   "id": "2022d56f",
   "metadata": {},
   "outputs": [],
   "source": [
    "df=pd.read_csv(\"C:/Users/Dev kumar/Downloads/weatherAUS.csv\")"
   ]
  },
  {
   "cell_type": "code",
   "execution_count": 3,
   "id": "226e0846",
   "metadata": {},
   "outputs": [
    {
     "data": {
      "text/html": [
       "<div>\n",
       "<style scoped>\n",
       "    .dataframe tbody tr th:only-of-type {\n",
       "        vertical-align: middle;\n",
       "    }\n",
       "\n",
       "    .dataframe tbody tr th {\n",
       "        vertical-align: top;\n",
       "    }\n",
       "\n",
       "    .dataframe thead th {\n",
       "        text-align: right;\n",
       "    }\n",
       "</style>\n",
       "<table border=\"1\" class=\"dataframe\">\n",
       "  <thead>\n",
       "    <tr style=\"text-align: right;\">\n",
       "      <th></th>\n",
       "      <th>Date</th>\n",
       "      <th>Location</th>\n",
       "      <th>MinTemp</th>\n",
       "      <th>MaxTemp</th>\n",
       "      <th>Rainfall</th>\n",
       "      <th>Evaporation</th>\n",
       "      <th>Sunshine</th>\n",
       "      <th>WindGustDir</th>\n",
       "      <th>WindGustSpeed</th>\n",
       "      <th>WindDir9am</th>\n",
       "      <th>...</th>\n",
       "      <th>Humidity9am</th>\n",
       "      <th>Humidity3pm</th>\n",
       "      <th>Pressure9am</th>\n",
       "      <th>Pressure3pm</th>\n",
       "      <th>Cloud9am</th>\n",
       "      <th>Cloud3pm</th>\n",
       "      <th>Temp9am</th>\n",
       "      <th>Temp3pm</th>\n",
       "      <th>RainToday</th>\n",
       "      <th>RainTomorrow</th>\n",
       "    </tr>\n",
       "  </thead>\n",
       "  <tbody>\n",
       "    <tr>\n",
       "      <th>0</th>\n",
       "      <td>2008-12-01</td>\n",
       "      <td>Albury</td>\n",
       "      <td>13.4</td>\n",
       "      <td>22.9</td>\n",
       "      <td>0.6</td>\n",
       "      <td>NaN</td>\n",
       "      <td>NaN</td>\n",
       "      <td>W</td>\n",
       "      <td>44.0</td>\n",
       "      <td>W</td>\n",
       "      <td>...</td>\n",
       "      <td>71.0</td>\n",
       "      <td>22.0</td>\n",
       "      <td>1007.7</td>\n",
       "      <td>1007.1</td>\n",
       "      <td>8.0</td>\n",
       "      <td>NaN</td>\n",
       "      <td>16.9</td>\n",
       "      <td>21.8</td>\n",
       "      <td>No</td>\n",
       "      <td>No</td>\n",
       "    </tr>\n",
       "    <tr>\n",
       "      <th>1</th>\n",
       "      <td>2008-12-02</td>\n",
       "      <td>Albury</td>\n",
       "      <td>7.4</td>\n",
       "      <td>25.1</td>\n",
       "      <td>0.0</td>\n",
       "      <td>NaN</td>\n",
       "      <td>NaN</td>\n",
       "      <td>WNW</td>\n",
       "      <td>44.0</td>\n",
       "      <td>NNW</td>\n",
       "      <td>...</td>\n",
       "      <td>44.0</td>\n",
       "      <td>25.0</td>\n",
       "      <td>1010.6</td>\n",
       "      <td>1007.8</td>\n",
       "      <td>NaN</td>\n",
       "      <td>NaN</td>\n",
       "      <td>17.2</td>\n",
       "      <td>24.3</td>\n",
       "      <td>No</td>\n",
       "      <td>No</td>\n",
       "    </tr>\n",
       "    <tr>\n",
       "      <th>2</th>\n",
       "      <td>2008-12-03</td>\n",
       "      <td>Albury</td>\n",
       "      <td>12.9</td>\n",
       "      <td>25.7</td>\n",
       "      <td>0.0</td>\n",
       "      <td>NaN</td>\n",
       "      <td>NaN</td>\n",
       "      <td>WSW</td>\n",
       "      <td>46.0</td>\n",
       "      <td>W</td>\n",
       "      <td>...</td>\n",
       "      <td>38.0</td>\n",
       "      <td>30.0</td>\n",
       "      <td>1007.6</td>\n",
       "      <td>1008.7</td>\n",
       "      <td>NaN</td>\n",
       "      <td>2.0</td>\n",
       "      <td>21.0</td>\n",
       "      <td>23.2</td>\n",
       "      <td>No</td>\n",
       "      <td>No</td>\n",
       "    </tr>\n",
       "    <tr>\n",
       "      <th>3</th>\n",
       "      <td>2008-12-04</td>\n",
       "      <td>Albury</td>\n",
       "      <td>9.2</td>\n",
       "      <td>28.0</td>\n",
       "      <td>0.0</td>\n",
       "      <td>NaN</td>\n",
       "      <td>NaN</td>\n",
       "      <td>NE</td>\n",
       "      <td>24.0</td>\n",
       "      <td>SE</td>\n",
       "      <td>...</td>\n",
       "      <td>45.0</td>\n",
       "      <td>16.0</td>\n",
       "      <td>1017.6</td>\n",
       "      <td>1012.8</td>\n",
       "      <td>NaN</td>\n",
       "      <td>NaN</td>\n",
       "      <td>18.1</td>\n",
       "      <td>26.5</td>\n",
       "      <td>No</td>\n",
       "      <td>No</td>\n",
       "    </tr>\n",
       "    <tr>\n",
       "      <th>4</th>\n",
       "      <td>2008-12-05</td>\n",
       "      <td>Albury</td>\n",
       "      <td>17.5</td>\n",
       "      <td>32.3</td>\n",
       "      <td>1.0</td>\n",
       "      <td>NaN</td>\n",
       "      <td>NaN</td>\n",
       "      <td>W</td>\n",
       "      <td>41.0</td>\n",
       "      <td>ENE</td>\n",
       "      <td>...</td>\n",
       "      <td>82.0</td>\n",
       "      <td>33.0</td>\n",
       "      <td>1010.8</td>\n",
       "      <td>1006.0</td>\n",
       "      <td>7.0</td>\n",
       "      <td>8.0</td>\n",
       "      <td>17.8</td>\n",
       "      <td>29.7</td>\n",
       "      <td>No</td>\n",
       "      <td>No</td>\n",
       "    </tr>\n",
       "    <tr>\n",
       "      <th>...</th>\n",
       "      <td>...</td>\n",
       "      <td>...</td>\n",
       "      <td>...</td>\n",
       "      <td>...</td>\n",
       "      <td>...</td>\n",
       "      <td>...</td>\n",
       "      <td>...</td>\n",
       "      <td>...</td>\n",
       "      <td>...</td>\n",
       "      <td>...</td>\n",
       "      <td>...</td>\n",
       "      <td>...</td>\n",
       "      <td>...</td>\n",
       "      <td>...</td>\n",
       "      <td>...</td>\n",
       "      <td>...</td>\n",
       "      <td>...</td>\n",
       "      <td>...</td>\n",
       "      <td>...</td>\n",
       "      <td>...</td>\n",
       "      <td>...</td>\n",
       "    </tr>\n",
       "    <tr>\n",
       "      <th>145455</th>\n",
       "      <td>2017-06-21</td>\n",
       "      <td>Uluru</td>\n",
       "      <td>2.8</td>\n",
       "      <td>23.4</td>\n",
       "      <td>0.0</td>\n",
       "      <td>NaN</td>\n",
       "      <td>NaN</td>\n",
       "      <td>E</td>\n",
       "      <td>31.0</td>\n",
       "      <td>SE</td>\n",
       "      <td>...</td>\n",
       "      <td>51.0</td>\n",
       "      <td>24.0</td>\n",
       "      <td>1024.6</td>\n",
       "      <td>1020.3</td>\n",
       "      <td>NaN</td>\n",
       "      <td>NaN</td>\n",
       "      <td>10.1</td>\n",
       "      <td>22.4</td>\n",
       "      <td>No</td>\n",
       "      <td>No</td>\n",
       "    </tr>\n",
       "    <tr>\n",
       "      <th>145456</th>\n",
       "      <td>2017-06-22</td>\n",
       "      <td>Uluru</td>\n",
       "      <td>3.6</td>\n",
       "      <td>25.3</td>\n",
       "      <td>0.0</td>\n",
       "      <td>NaN</td>\n",
       "      <td>NaN</td>\n",
       "      <td>NNW</td>\n",
       "      <td>22.0</td>\n",
       "      <td>SE</td>\n",
       "      <td>...</td>\n",
       "      <td>56.0</td>\n",
       "      <td>21.0</td>\n",
       "      <td>1023.5</td>\n",
       "      <td>1019.1</td>\n",
       "      <td>NaN</td>\n",
       "      <td>NaN</td>\n",
       "      <td>10.9</td>\n",
       "      <td>24.5</td>\n",
       "      <td>No</td>\n",
       "      <td>No</td>\n",
       "    </tr>\n",
       "    <tr>\n",
       "      <th>145457</th>\n",
       "      <td>2017-06-23</td>\n",
       "      <td>Uluru</td>\n",
       "      <td>5.4</td>\n",
       "      <td>26.9</td>\n",
       "      <td>0.0</td>\n",
       "      <td>NaN</td>\n",
       "      <td>NaN</td>\n",
       "      <td>N</td>\n",
       "      <td>37.0</td>\n",
       "      <td>SE</td>\n",
       "      <td>...</td>\n",
       "      <td>53.0</td>\n",
       "      <td>24.0</td>\n",
       "      <td>1021.0</td>\n",
       "      <td>1016.8</td>\n",
       "      <td>NaN</td>\n",
       "      <td>NaN</td>\n",
       "      <td>12.5</td>\n",
       "      <td>26.1</td>\n",
       "      <td>No</td>\n",
       "      <td>No</td>\n",
       "    </tr>\n",
       "    <tr>\n",
       "      <th>145458</th>\n",
       "      <td>2017-06-24</td>\n",
       "      <td>Uluru</td>\n",
       "      <td>7.8</td>\n",
       "      <td>27.0</td>\n",
       "      <td>0.0</td>\n",
       "      <td>NaN</td>\n",
       "      <td>NaN</td>\n",
       "      <td>SE</td>\n",
       "      <td>28.0</td>\n",
       "      <td>SSE</td>\n",
       "      <td>...</td>\n",
       "      <td>51.0</td>\n",
       "      <td>24.0</td>\n",
       "      <td>1019.4</td>\n",
       "      <td>1016.5</td>\n",
       "      <td>3.0</td>\n",
       "      <td>2.0</td>\n",
       "      <td>15.1</td>\n",
       "      <td>26.0</td>\n",
       "      <td>No</td>\n",
       "      <td>No</td>\n",
       "    </tr>\n",
       "    <tr>\n",
       "      <th>145459</th>\n",
       "      <td>2017-06-25</td>\n",
       "      <td>Uluru</td>\n",
       "      <td>14.9</td>\n",
       "      <td>NaN</td>\n",
       "      <td>0.0</td>\n",
       "      <td>NaN</td>\n",
       "      <td>NaN</td>\n",
       "      <td>NaN</td>\n",
       "      <td>NaN</td>\n",
       "      <td>ESE</td>\n",
       "      <td>...</td>\n",
       "      <td>62.0</td>\n",
       "      <td>36.0</td>\n",
       "      <td>1020.2</td>\n",
       "      <td>1017.9</td>\n",
       "      <td>8.0</td>\n",
       "      <td>8.0</td>\n",
       "      <td>15.0</td>\n",
       "      <td>20.9</td>\n",
       "      <td>No</td>\n",
       "      <td>NaN</td>\n",
       "    </tr>\n",
       "  </tbody>\n",
       "</table>\n",
       "<p>145460 rows × 23 columns</p>\n",
       "</div>"
      ],
      "text/plain": [
       "              Date Location  MinTemp  MaxTemp  Rainfall  Evaporation  \\\n",
       "0       2008-12-01   Albury     13.4     22.9       0.6          NaN   \n",
       "1       2008-12-02   Albury      7.4     25.1       0.0          NaN   \n",
       "2       2008-12-03   Albury     12.9     25.7       0.0          NaN   \n",
       "3       2008-12-04   Albury      9.2     28.0       0.0          NaN   \n",
       "4       2008-12-05   Albury     17.5     32.3       1.0          NaN   \n",
       "...            ...      ...      ...      ...       ...          ...   \n",
       "145455  2017-06-21    Uluru      2.8     23.4       0.0          NaN   \n",
       "145456  2017-06-22    Uluru      3.6     25.3       0.0          NaN   \n",
       "145457  2017-06-23    Uluru      5.4     26.9       0.0          NaN   \n",
       "145458  2017-06-24    Uluru      7.8     27.0       0.0          NaN   \n",
       "145459  2017-06-25    Uluru     14.9      NaN       0.0          NaN   \n",
       "\n",
       "        Sunshine WindGustDir  WindGustSpeed WindDir9am  ... Humidity9am  \\\n",
       "0            NaN           W           44.0          W  ...        71.0   \n",
       "1            NaN         WNW           44.0        NNW  ...        44.0   \n",
       "2            NaN         WSW           46.0          W  ...        38.0   \n",
       "3            NaN          NE           24.0         SE  ...        45.0   \n",
       "4            NaN           W           41.0        ENE  ...        82.0   \n",
       "...          ...         ...            ...        ...  ...         ...   \n",
       "145455       NaN           E           31.0         SE  ...        51.0   \n",
       "145456       NaN         NNW           22.0         SE  ...        56.0   \n",
       "145457       NaN           N           37.0         SE  ...        53.0   \n",
       "145458       NaN          SE           28.0        SSE  ...        51.0   \n",
       "145459       NaN         NaN            NaN        ESE  ...        62.0   \n",
       "\n",
       "        Humidity3pm  Pressure9am  Pressure3pm  Cloud9am  Cloud3pm  Temp9am  \\\n",
       "0              22.0       1007.7       1007.1       8.0       NaN     16.9   \n",
       "1              25.0       1010.6       1007.8       NaN       NaN     17.2   \n",
       "2              30.0       1007.6       1008.7       NaN       2.0     21.0   \n",
       "3              16.0       1017.6       1012.8       NaN       NaN     18.1   \n",
       "4              33.0       1010.8       1006.0       7.0       8.0     17.8   \n",
       "...             ...          ...          ...       ...       ...      ...   \n",
       "145455         24.0       1024.6       1020.3       NaN       NaN     10.1   \n",
       "145456         21.0       1023.5       1019.1       NaN       NaN     10.9   \n",
       "145457         24.0       1021.0       1016.8       NaN       NaN     12.5   \n",
       "145458         24.0       1019.4       1016.5       3.0       2.0     15.1   \n",
       "145459         36.0       1020.2       1017.9       8.0       8.0     15.0   \n",
       "\n",
       "        Temp3pm  RainToday  RainTomorrow  \n",
       "0          21.8         No            No  \n",
       "1          24.3         No            No  \n",
       "2          23.2         No            No  \n",
       "3          26.5         No            No  \n",
       "4          29.7         No            No  \n",
       "...         ...        ...           ...  \n",
       "145455     22.4         No            No  \n",
       "145456     24.5         No            No  \n",
       "145457     26.1         No            No  \n",
       "145458     26.0         No            No  \n",
       "145459     20.9         No           NaN  \n",
       "\n",
       "[145460 rows x 23 columns]"
      ]
     },
     "execution_count": 3,
     "metadata": {},
     "output_type": "execute_result"
    }
   ],
   "source": [
    "df"
   ]
  },
  {
   "cell_type": "code",
   "execution_count": 4,
   "id": "ffc7cd64",
   "metadata": {},
   "outputs": [],
   "source": [
    "# Exploratory Data Analysis"
   ]
  },
  {
   "cell_type": "code",
   "execution_count": 5,
   "id": "84800683",
   "metadata": {},
   "outputs": [
    {
     "data": {
      "text/plain": [
       "(145460, 23)"
      ]
     },
     "execution_count": 5,
     "metadata": {},
     "output_type": "execute_result"
    }
   ],
   "source": [
    "df.shape"
   ]
  },
  {
   "cell_type": "code",
   "execution_count": 6,
   "id": "0d9e2e19",
   "metadata": {},
   "outputs": [
    {
     "data": {
      "text/plain": [
       "Index(['Date', 'Location', 'MinTemp', 'MaxTemp', 'Rainfall', 'Evaporation',\n",
       "       'Sunshine', 'WindGustDir', 'WindGustSpeed', 'WindDir9am', 'WindDir3pm',\n",
       "       'WindSpeed9am', 'WindSpeed3pm', 'Humidity9am', 'Humidity3pm',\n",
       "       'Pressure9am', 'Pressure3pm', 'Cloud9am', 'Cloud3pm', 'Temp9am',\n",
       "       'Temp3pm', 'RainToday', 'RainTomorrow'],\n",
       "      dtype='object')"
      ]
     },
     "execution_count": 6,
     "metadata": {},
     "output_type": "execute_result"
    }
   ],
   "source": [
    "df.columns"
   ]
  },
  {
   "cell_type": "code",
   "execution_count": 7,
   "id": "a7946be1",
   "metadata": {},
   "outputs": [
    {
     "name": "stdout",
     "output_type": "stream",
     "text": [
      "['Date', 'Location', 'MinTemp', 'MaxTemp', 'Rainfall', 'Evaporation', 'Sunshine', 'WindGustDir', 'WindGustSpeed', 'WindDir9am', 'WindDir3pm', 'WindSpeed9am', 'WindSpeed3pm', 'Humidity9am', 'Humidity3pm', 'Pressure9am', 'Pressure3pm', 'Cloud9am', 'Cloud3pm', 'Temp9am', 'Temp3pm', 'RainToday', 'RainTomorrow']\n"
     ]
    }
   ],
   "source": [
    "print(df.columns.tolist())"
   ]
  },
  {
   "cell_type": "code",
   "execution_count": 8,
   "id": "fcdfa653",
   "metadata": {},
   "outputs": [
    {
     "data": {
      "text/html": [
       "<div>\n",
       "<style scoped>\n",
       "    .dataframe tbody tr th:only-of-type {\n",
       "        vertical-align: middle;\n",
       "    }\n",
       "\n",
       "    .dataframe tbody tr th {\n",
       "        vertical-align: top;\n",
       "    }\n",
       "\n",
       "    .dataframe thead th {\n",
       "        text-align: right;\n",
       "    }\n",
       "</style>\n",
       "<table border=\"1\" class=\"dataframe\">\n",
       "  <thead>\n",
       "    <tr style=\"text-align: right;\">\n",
       "      <th></th>\n",
       "      <th>MinTemp</th>\n",
       "      <th>MaxTemp</th>\n",
       "      <th>Rainfall</th>\n",
       "      <th>Evaporation</th>\n",
       "      <th>Sunshine</th>\n",
       "      <th>WindGustSpeed</th>\n",
       "      <th>WindSpeed9am</th>\n",
       "      <th>WindSpeed3pm</th>\n",
       "      <th>Humidity9am</th>\n",
       "      <th>Humidity3pm</th>\n",
       "      <th>Pressure9am</th>\n",
       "      <th>Pressure3pm</th>\n",
       "      <th>Cloud9am</th>\n",
       "      <th>Cloud3pm</th>\n",
       "      <th>Temp9am</th>\n",
       "      <th>Temp3pm</th>\n",
       "    </tr>\n",
       "  </thead>\n",
       "  <tbody>\n",
       "    <tr>\n",
       "      <th>count</th>\n",
       "      <td>143975.000000</td>\n",
       "      <td>144199.000000</td>\n",
       "      <td>142199.000000</td>\n",
       "      <td>82670.000000</td>\n",
       "      <td>75625.000000</td>\n",
       "      <td>135197.000000</td>\n",
       "      <td>143693.000000</td>\n",
       "      <td>142398.000000</td>\n",
       "      <td>142806.000000</td>\n",
       "      <td>140953.000000</td>\n",
       "      <td>130395.00000</td>\n",
       "      <td>130432.000000</td>\n",
       "      <td>89572.000000</td>\n",
       "      <td>86102.000000</td>\n",
       "      <td>143693.000000</td>\n",
       "      <td>141851.00000</td>\n",
       "    </tr>\n",
       "    <tr>\n",
       "      <th>mean</th>\n",
       "      <td>12.194034</td>\n",
       "      <td>23.221348</td>\n",
       "      <td>2.360918</td>\n",
       "      <td>5.468232</td>\n",
       "      <td>7.611178</td>\n",
       "      <td>40.035230</td>\n",
       "      <td>14.043426</td>\n",
       "      <td>18.662657</td>\n",
       "      <td>68.880831</td>\n",
       "      <td>51.539116</td>\n",
       "      <td>1017.64994</td>\n",
       "      <td>1015.255889</td>\n",
       "      <td>4.447461</td>\n",
       "      <td>4.509930</td>\n",
       "      <td>16.990631</td>\n",
       "      <td>21.68339</td>\n",
       "    </tr>\n",
       "    <tr>\n",
       "      <th>std</th>\n",
       "      <td>6.398495</td>\n",
       "      <td>7.119049</td>\n",
       "      <td>8.478060</td>\n",
       "      <td>4.193704</td>\n",
       "      <td>3.785483</td>\n",
       "      <td>13.607062</td>\n",
       "      <td>8.915375</td>\n",
       "      <td>8.809800</td>\n",
       "      <td>19.029164</td>\n",
       "      <td>20.795902</td>\n",
       "      <td>7.10653</td>\n",
       "      <td>7.037414</td>\n",
       "      <td>2.887159</td>\n",
       "      <td>2.720357</td>\n",
       "      <td>6.488753</td>\n",
       "      <td>6.93665</td>\n",
       "    </tr>\n",
       "    <tr>\n",
       "      <th>min</th>\n",
       "      <td>-8.500000</td>\n",
       "      <td>-4.800000</td>\n",
       "      <td>0.000000</td>\n",
       "      <td>0.000000</td>\n",
       "      <td>0.000000</td>\n",
       "      <td>6.000000</td>\n",
       "      <td>0.000000</td>\n",
       "      <td>0.000000</td>\n",
       "      <td>0.000000</td>\n",
       "      <td>0.000000</td>\n",
       "      <td>980.50000</td>\n",
       "      <td>977.100000</td>\n",
       "      <td>0.000000</td>\n",
       "      <td>0.000000</td>\n",
       "      <td>-7.200000</td>\n",
       "      <td>-5.40000</td>\n",
       "    </tr>\n",
       "    <tr>\n",
       "      <th>25%</th>\n",
       "      <td>7.600000</td>\n",
       "      <td>17.900000</td>\n",
       "      <td>0.000000</td>\n",
       "      <td>2.600000</td>\n",
       "      <td>4.800000</td>\n",
       "      <td>31.000000</td>\n",
       "      <td>7.000000</td>\n",
       "      <td>13.000000</td>\n",
       "      <td>57.000000</td>\n",
       "      <td>37.000000</td>\n",
       "      <td>1012.90000</td>\n",
       "      <td>1010.400000</td>\n",
       "      <td>1.000000</td>\n",
       "      <td>2.000000</td>\n",
       "      <td>12.300000</td>\n",
       "      <td>16.60000</td>\n",
       "    </tr>\n",
       "    <tr>\n",
       "      <th>50%</th>\n",
       "      <td>12.000000</td>\n",
       "      <td>22.600000</td>\n",
       "      <td>0.000000</td>\n",
       "      <td>4.800000</td>\n",
       "      <td>8.400000</td>\n",
       "      <td>39.000000</td>\n",
       "      <td>13.000000</td>\n",
       "      <td>19.000000</td>\n",
       "      <td>70.000000</td>\n",
       "      <td>52.000000</td>\n",
       "      <td>1017.60000</td>\n",
       "      <td>1015.200000</td>\n",
       "      <td>5.000000</td>\n",
       "      <td>5.000000</td>\n",
       "      <td>16.700000</td>\n",
       "      <td>21.10000</td>\n",
       "    </tr>\n",
       "    <tr>\n",
       "      <th>75%</th>\n",
       "      <td>16.900000</td>\n",
       "      <td>28.200000</td>\n",
       "      <td>0.800000</td>\n",
       "      <td>7.400000</td>\n",
       "      <td>10.600000</td>\n",
       "      <td>48.000000</td>\n",
       "      <td>19.000000</td>\n",
       "      <td>24.000000</td>\n",
       "      <td>83.000000</td>\n",
       "      <td>66.000000</td>\n",
       "      <td>1022.40000</td>\n",
       "      <td>1020.000000</td>\n",
       "      <td>7.000000</td>\n",
       "      <td>7.000000</td>\n",
       "      <td>21.600000</td>\n",
       "      <td>26.40000</td>\n",
       "    </tr>\n",
       "    <tr>\n",
       "      <th>max</th>\n",
       "      <td>33.900000</td>\n",
       "      <td>48.100000</td>\n",
       "      <td>371.000000</td>\n",
       "      <td>145.000000</td>\n",
       "      <td>14.500000</td>\n",
       "      <td>135.000000</td>\n",
       "      <td>130.000000</td>\n",
       "      <td>87.000000</td>\n",
       "      <td>100.000000</td>\n",
       "      <td>100.000000</td>\n",
       "      <td>1041.00000</td>\n",
       "      <td>1039.600000</td>\n",
       "      <td>9.000000</td>\n",
       "      <td>9.000000</td>\n",
       "      <td>40.200000</td>\n",
       "      <td>46.70000</td>\n",
       "    </tr>\n",
       "  </tbody>\n",
       "</table>\n",
       "</div>"
      ],
      "text/plain": [
       "             MinTemp        MaxTemp       Rainfall   Evaporation  \\\n",
       "count  143975.000000  144199.000000  142199.000000  82670.000000   \n",
       "mean       12.194034      23.221348       2.360918      5.468232   \n",
       "std         6.398495       7.119049       8.478060      4.193704   \n",
       "min        -8.500000      -4.800000       0.000000      0.000000   \n",
       "25%         7.600000      17.900000       0.000000      2.600000   \n",
       "50%        12.000000      22.600000       0.000000      4.800000   \n",
       "75%        16.900000      28.200000       0.800000      7.400000   \n",
       "max        33.900000      48.100000     371.000000    145.000000   \n",
       "\n",
       "           Sunshine  WindGustSpeed   WindSpeed9am   WindSpeed3pm  \\\n",
       "count  75625.000000  135197.000000  143693.000000  142398.000000   \n",
       "mean       7.611178      40.035230      14.043426      18.662657   \n",
       "std        3.785483      13.607062       8.915375       8.809800   \n",
       "min        0.000000       6.000000       0.000000       0.000000   \n",
       "25%        4.800000      31.000000       7.000000      13.000000   \n",
       "50%        8.400000      39.000000      13.000000      19.000000   \n",
       "75%       10.600000      48.000000      19.000000      24.000000   \n",
       "max       14.500000     135.000000     130.000000      87.000000   \n",
       "\n",
       "         Humidity9am    Humidity3pm   Pressure9am    Pressure3pm  \\\n",
       "count  142806.000000  140953.000000  130395.00000  130432.000000   \n",
       "mean       68.880831      51.539116    1017.64994    1015.255889   \n",
       "std        19.029164      20.795902       7.10653       7.037414   \n",
       "min         0.000000       0.000000     980.50000     977.100000   \n",
       "25%        57.000000      37.000000    1012.90000    1010.400000   \n",
       "50%        70.000000      52.000000    1017.60000    1015.200000   \n",
       "75%        83.000000      66.000000    1022.40000    1020.000000   \n",
       "max       100.000000     100.000000    1041.00000    1039.600000   \n",
       "\n",
       "           Cloud9am      Cloud3pm        Temp9am       Temp3pm  \n",
       "count  89572.000000  86102.000000  143693.000000  141851.00000  \n",
       "mean       4.447461      4.509930      16.990631      21.68339  \n",
       "std        2.887159      2.720357       6.488753       6.93665  \n",
       "min        0.000000      0.000000      -7.200000      -5.40000  \n",
       "25%        1.000000      2.000000      12.300000      16.60000  \n",
       "50%        5.000000      5.000000      16.700000      21.10000  \n",
       "75%        7.000000      7.000000      21.600000      26.40000  \n",
       "max        9.000000      9.000000      40.200000      46.70000  "
      ]
     },
     "execution_count": 8,
     "metadata": {},
     "output_type": "execute_result"
    }
   ],
   "source": [
    "df.describe()"
   ]
  },
  {
   "cell_type": "code",
   "execution_count": 9,
   "id": "3e96b8f8",
   "metadata": {},
   "outputs": [
    {
     "name": "stdout",
     "output_type": "stream",
     "text": [
      "<class 'pandas.core.frame.DataFrame'>\n",
      "RangeIndex: 145460 entries, 0 to 145459\n",
      "Data columns (total 23 columns):\n",
      " #   Column         Non-Null Count   Dtype  \n",
      "---  ------         --------------   -----  \n",
      " 0   Date           145460 non-null  object \n",
      " 1   Location       145460 non-null  object \n",
      " 2   MinTemp        143975 non-null  float64\n",
      " 3   MaxTemp        144199 non-null  float64\n",
      " 4   Rainfall       142199 non-null  float64\n",
      " 5   Evaporation    82670 non-null   float64\n",
      " 6   Sunshine       75625 non-null   float64\n",
      " 7   WindGustDir    135134 non-null  object \n",
      " 8   WindGustSpeed  135197 non-null  float64\n",
      " 9   WindDir9am     134894 non-null  object \n",
      " 10  WindDir3pm     141232 non-null  object \n",
      " 11  WindSpeed9am   143693 non-null  float64\n",
      " 12  WindSpeed3pm   142398 non-null  float64\n",
      " 13  Humidity9am    142806 non-null  float64\n",
      " 14  Humidity3pm    140953 non-null  float64\n",
      " 15  Pressure9am    130395 non-null  float64\n",
      " 16  Pressure3pm    130432 non-null  float64\n",
      " 17  Cloud9am       89572 non-null   float64\n",
      " 18  Cloud3pm       86102 non-null   float64\n",
      " 19  Temp9am        143693 non-null  float64\n",
      " 20  Temp3pm        141851 non-null  float64\n",
      " 21  RainToday      142199 non-null  object \n",
      " 22  RainTomorrow   142193 non-null  object \n",
      "dtypes: float64(16), object(7)\n",
      "memory usage: 25.5+ MB\n"
     ]
    }
   ],
   "source": [
    "df.info()"
   ]
  },
  {
   "cell_type": "code",
   "execution_count": 10,
   "id": "95ce047b",
   "metadata": {},
   "outputs": [
    {
     "data": {
      "text/plain": [
       "Date                 0\n",
       "Location             0\n",
       "MinTemp           1485\n",
       "MaxTemp           1261\n",
       "Rainfall          3261\n",
       "Evaporation      62790\n",
       "Sunshine         69835\n",
       "WindGustDir      10326\n",
       "WindGustSpeed    10263\n",
       "WindDir9am       10566\n",
       "WindDir3pm        4228\n",
       "WindSpeed9am      1767\n",
       "WindSpeed3pm      3062\n",
       "Humidity9am       2654\n",
       "Humidity3pm       4507\n",
       "Pressure9am      15065\n",
       "Pressure3pm      15028\n",
       "Cloud9am         55888\n",
       "Cloud3pm         59358\n",
       "Temp9am           1767\n",
       "Temp3pm           3609\n",
       "RainToday         3261\n",
       "RainTomorrow      3267\n",
       "dtype: int64"
      ]
     },
     "execution_count": 10,
     "metadata": {},
     "output_type": "execute_result"
    }
   ],
   "source": [
    "df.isna().sum()"
   ]
  },
  {
   "cell_type": "code",
   "execution_count": 11,
   "id": "b852dff7",
   "metadata": {},
   "outputs": [
    {
     "data": {
      "text/html": [
       "<div>\n",
       "<style scoped>\n",
       "    .dataframe tbody tr th:only-of-type {\n",
       "        vertical-align: middle;\n",
       "    }\n",
       "\n",
       "    .dataframe tbody tr th {\n",
       "        vertical-align: top;\n",
       "    }\n",
       "\n",
       "    .dataframe thead th {\n",
       "        text-align: right;\n",
       "    }\n",
       "</style>\n",
       "<table border=\"1\" class=\"dataframe\">\n",
       "  <thead>\n",
       "    <tr style=\"text-align: right;\">\n",
       "      <th></th>\n",
       "      <th>MinTemp</th>\n",
       "      <th>MaxTemp</th>\n",
       "      <th>Rainfall</th>\n",
       "      <th>Evaporation</th>\n",
       "      <th>Sunshine</th>\n",
       "      <th>WindGustSpeed</th>\n",
       "      <th>WindSpeed9am</th>\n",
       "      <th>WindSpeed3pm</th>\n",
       "      <th>Humidity9am</th>\n",
       "      <th>Humidity3pm</th>\n",
       "      <th>Pressure9am</th>\n",
       "      <th>Pressure3pm</th>\n",
       "      <th>Cloud9am</th>\n",
       "      <th>Cloud3pm</th>\n",
       "      <th>Temp9am</th>\n",
       "      <th>Temp3pm</th>\n",
       "    </tr>\n",
       "  </thead>\n",
       "  <tbody>\n",
       "    <tr>\n",
       "      <th>MinTemp</th>\n",
       "      <td>1.000000</td>\n",
       "      <td>0.736555</td>\n",
       "      <td>0.103938</td>\n",
       "      <td>0.466993</td>\n",
       "      <td>0.072586</td>\n",
       "      <td>0.177415</td>\n",
       "      <td>0.175064</td>\n",
       "      <td>0.175173</td>\n",
       "      <td>-0.232899</td>\n",
       "      <td>0.006089</td>\n",
       "      <td>-0.450970</td>\n",
       "      <td>-0.461292</td>\n",
       "      <td>0.078754</td>\n",
       "      <td>0.021605</td>\n",
       "      <td>0.901821</td>\n",
       "      <td>0.708906</td>\n",
       "    </tr>\n",
       "    <tr>\n",
       "      <th>MaxTemp</th>\n",
       "      <td>0.736555</td>\n",
       "      <td>1.000000</td>\n",
       "      <td>-0.074992</td>\n",
       "      <td>0.587932</td>\n",
       "      <td>0.470156</td>\n",
       "      <td>0.067615</td>\n",
       "      <td>0.014450</td>\n",
       "      <td>0.050300</td>\n",
       "      <td>-0.504110</td>\n",
       "      <td>-0.508855</td>\n",
       "      <td>-0.332061</td>\n",
       "      <td>-0.427167</td>\n",
       "      <td>-0.289370</td>\n",
       "      <td>-0.277921</td>\n",
       "      <td>0.887210</td>\n",
       "      <td>0.984503</td>\n",
       "    </tr>\n",
       "    <tr>\n",
       "      <th>Rainfall</th>\n",
       "      <td>0.103938</td>\n",
       "      <td>-0.074992</td>\n",
       "      <td>1.000000</td>\n",
       "      <td>-0.064351</td>\n",
       "      <td>-0.227549</td>\n",
       "      <td>0.133659</td>\n",
       "      <td>0.087338</td>\n",
       "      <td>0.057887</td>\n",
       "      <td>0.224405</td>\n",
       "      <td>0.255755</td>\n",
       "      <td>-0.168154</td>\n",
       "      <td>-0.126534</td>\n",
       "      <td>0.198528</td>\n",
       "      <td>0.172403</td>\n",
       "      <td>0.011192</td>\n",
       "      <td>-0.079657</td>\n",
       "    </tr>\n",
       "    <tr>\n",
       "      <th>Evaporation</th>\n",
       "      <td>0.466993</td>\n",
       "      <td>0.587932</td>\n",
       "      <td>-0.064351</td>\n",
       "      <td>1.000000</td>\n",
       "      <td>0.365602</td>\n",
       "      <td>0.203021</td>\n",
       "      <td>0.193084</td>\n",
       "      <td>0.129400</td>\n",
       "      <td>-0.504092</td>\n",
       "      <td>-0.390243</td>\n",
       "      <td>-0.270362</td>\n",
       "      <td>-0.293581</td>\n",
       "      <td>-0.183793</td>\n",
       "      <td>-0.182618</td>\n",
       "      <td>0.545115</td>\n",
       "      <td>0.572893</td>\n",
       "    </tr>\n",
       "    <tr>\n",
       "      <th>Sunshine</th>\n",
       "      <td>0.072586</td>\n",
       "      <td>0.470156</td>\n",
       "      <td>-0.227549</td>\n",
       "      <td>0.365602</td>\n",
       "      <td>1.000000</td>\n",
       "      <td>-0.034750</td>\n",
       "      <td>0.005499</td>\n",
       "      <td>0.053834</td>\n",
       "      <td>-0.490819</td>\n",
       "      <td>-0.629130</td>\n",
       "      <td>0.041970</td>\n",
       "      <td>-0.019719</td>\n",
       "      <td>-0.675323</td>\n",
       "      <td>-0.703930</td>\n",
       "      <td>0.291188</td>\n",
       "      <td>0.490501</td>\n",
       "    </tr>\n",
       "    <tr>\n",
       "      <th>WindGustSpeed</th>\n",
       "      <td>0.177415</td>\n",
       "      <td>0.067615</td>\n",
       "      <td>0.133659</td>\n",
       "      <td>0.203021</td>\n",
       "      <td>-0.034750</td>\n",
       "      <td>1.000000</td>\n",
       "      <td>0.605303</td>\n",
       "      <td>0.686307</td>\n",
       "      <td>-0.215070</td>\n",
       "      <td>-0.026327</td>\n",
       "      <td>-0.458744</td>\n",
       "      <td>-0.413749</td>\n",
       "      <td>0.071736</td>\n",
       "      <td>0.109168</td>\n",
       "      <td>0.150150</td>\n",
       "      <td>0.032748</td>\n",
       "    </tr>\n",
       "    <tr>\n",
       "      <th>WindSpeed9am</th>\n",
       "      <td>0.175064</td>\n",
       "      <td>0.014450</td>\n",
       "      <td>0.087338</td>\n",
       "      <td>0.193084</td>\n",
       "      <td>0.005499</td>\n",
       "      <td>0.605303</td>\n",
       "      <td>1.000000</td>\n",
       "      <td>0.519547</td>\n",
       "      <td>-0.270858</td>\n",
       "      <td>-0.031614</td>\n",
       "      <td>-0.228743</td>\n",
       "      <td>-0.175817</td>\n",
       "      <td>0.025112</td>\n",
       "      <td>0.054639</td>\n",
       "      <td>0.128545</td>\n",
       "      <td>0.004569</td>\n",
       "    </tr>\n",
       "    <tr>\n",
       "      <th>WindSpeed3pm</th>\n",
       "      <td>0.175173</td>\n",
       "      <td>0.050300</td>\n",
       "      <td>0.057887</td>\n",
       "      <td>0.129400</td>\n",
       "      <td>0.053834</td>\n",
       "      <td>0.686307</td>\n",
       "      <td>0.519547</td>\n",
       "      <td>1.000000</td>\n",
       "      <td>-0.145525</td>\n",
       "      <td>0.016432</td>\n",
       "      <td>-0.296351</td>\n",
       "      <td>-0.255439</td>\n",
       "      <td>0.053337</td>\n",
       "      <td>0.025396</td>\n",
       "      <td>0.163030</td>\n",
       "      <td>0.027778</td>\n",
       "    </tr>\n",
       "    <tr>\n",
       "      <th>Humidity9am</th>\n",
       "      <td>-0.232899</td>\n",
       "      <td>-0.504110</td>\n",
       "      <td>0.224405</td>\n",
       "      <td>-0.504092</td>\n",
       "      <td>-0.490819</td>\n",
       "      <td>-0.215070</td>\n",
       "      <td>-0.270858</td>\n",
       "      <td>-0.145525</td>\n",
       "      <td>1.000000</td>\n",
       "      <td>0.666949</td>\n",
       "      <td>0.139442</td>\n",
       "      <td>0.186858</td>\n",
       "      <td>0.452297</td>\n",
       "      <td>0.357326</td>\n",
       "      <td>-0.471354</td>\n",
       "      <td>-0.498399</td>\n",
       "    </tr>\n",
       "    <tr>\n",
       "      <th>Humidity3pm</th>\n",
       "      <td>0.006089</td>\n",
       "      <td>-0.508855</td>\n",
       "      <td>0.255755</td>\n",
       "      <td>-0.390243</td>\n",
       "      <td>-0.629130</td>\n",
       "      <td>-0.026327</td>\n",
       "      <td>-0.031614</td>\n",
       "      <td>0.016432</td>\n",
       "      <td>0.666949</td>\n",
       "      <td>1.000000</td>\n",
       "      <td>-0.027544</td>\n",
       "      <td>0.051997</td>\n",
       "      <td>0.517120</td>\n",
       "      <td>0.523120</td>\n",
       "      <td>-0.221019</td>\n",
       "      <td>-0.557841</td>\n",
       "    </tr>\n",
       "    <tr>\n",
       "      <th>Pressure9am</th>\n",
       "      <td>-0.450970</td>\n",
       "      <td>-0.332061</td>\n",
       "      <td>-0.168154</td>\n",
       "      <td>-0.270362</td>\n",
       "      <td>0.041970</td>\n",
       "      <td>-0.458744</td>\n",
       "      <td>-0.228743</td>\n",
       "      <td>-0.296351</td>\n",
       "      <td>0.139442</td>\n",
       "      <td>-0.027544</td>\n",
       "      <td>1.000000</td>\n",
       "      <td>0.961326</td>\n",
       "      <td>-0.129796</td>\n",
       "      <td>-0.147861</td>\n",
       "      <td>-0.422556</td>\n",
       "      <td>-0.286770</td>\n",
       "    </tr>\n",
       "    <tr>\n",
       "      <th>Pressure3pm</th>\n",
       "      <td>-0.461292</td>\n",
       "      <td>-0.427167</td>\n",
       "      <td>-0.126534</td>\n",
       "      <td>-0.293581</td>\n",
       "      <td>-0.019719</td>\n",
       "      <td>-0.413749</td>\n",
       "      <td>-0.175817</td>\n",
       "      <td>-0.255439</td>\n",
       "      <td>0.186858</td>\n",
       "      <td>0.051997</td>\n",
       "      <td>0.961326</td>\n",
       "      <td>1.000000</td>\n",
       "      <td>-0.060772</td>\n",
       "      <td>-0.084778</td>\n",
       "      <td>-0.470187</td>\n",
       "      <td>-0.389548</td>\n",
       "    </tr>\n",
       "    <tr>\n",
       "      <th>Cloud9am</th>\n",
       "      <td>0.078754</td>\n",
       "      <td>-0.289370</td>\n",
       "      <td>0.198528</td>\n",
       "      <td>-0.183793</td>\n",
       "      <td>-0.675323</td>\n",
       "      <td>0.071736</td>\n",
       "      <td>0.025112</td>\n",
       "      <td>0.053337</td>\n",
       "      <td>0.452297</td>\n",
       "      <td>0.517120</td>\n",
       "      <td>-0.129796</td>\n",
       "      <td>-0.060772</td>\n",
       "      <td>1.000000</td>\n",
       "      <td>0.603564</td>\n",
       "      <td>-0.136959</td>\n",
       "      <td>-0.302060</td>\n",
       "    </tr>\n",
       "    <tr>\n",
       "      <th>Cloud3pm</th>\n",
       "      <td>0.021605</td>\n",
       "      <td>-0.277921</td>\n",
       "      <td>0.172403</td>\n",
       "      <td>-0.182618</td>\n",
       "      <td>-0.703930</td>\n",
       "      <td>0.109168</td>\n",
       "      <td>0.054639</td>\n",
       "      <td>0.025396</td>\n",
       "      <td>0.357326</td>\n",
       "      <td>0.523120</td>\n",
       "      <td>-0.147861</td>\n",
       "      <td>-0.084778</td>\n",
       "      <td>0.603564</td>\n",
       "      <td>1.000000</td>\n",
       "      <td>-0.126659</td>\n",
       "      <td>-0.317420</td>\n",
       "    </tr>\n",
       "    <tr>\n",
       "      <th>Temp9am</th>\n",
       "      <td>0.901821</td>\n",
       "      <td>0.887210</td>\n",
       "      <td>0.011192</td>\n",
       "      <td>0.545115</td>\n",
       "      <td>0.291188</td>\n",
       "      <td>0.150150</td>\n",
       "      <td>0.128545</td>\n",
       "      <td>0.163030</td>\n",
       "      <td>-0.471354</td>\n",
       "      <td>-0.221019</td>\n",
       "      <td>-0.422556</td>\n",
       "      <td>-0.470187</td>\n",
       "      <td>-0.136959</td>\n",
       "      <td>-0.126659</td>\n",
       "      <td>1.000000</td>\n",
       "      <td>0.860591</td>\n",
       "    </tr>\n",
       "    <tr>\n",
       "      <th>Temp3pm</th>\n",
       "      <td>0.708906</td>\n",
       "      <td>0.984503</td>\n",
       "      <td>-0.079657</td>\n",
       "      <td>0.572893</td>\n",
       "      <td>0.490501</td>\n",
       "      <td>0.032748</td>\n",
       "      <td>0.004569</td>\n",
       "      <td>0.027778</td>\n",
       "      <td>-0.498399</td>\n",
       "      <td>-0.557841</td>\n",
       "      <td>-0.286770</td>\n",
       "      <td>-0.389548</td>\n",
       "      <td>-0.302060</td>\n",
       "      <td>-0.317420</td>\n",
       "      <td>0.860591</td>\n",
       "      <td>1.000000</td>\n",
       "    </tr>\n",
       "  </tbody>\n",
       "</table>\n",
       "</div>"
      ],
      "text/plain": [
       "                MinTemp   MaxTemp  Rainfall  Evaporation  Sunshine  \\\n",
       "MinTemp        1.000000  0.736555  0.103938     0.466993  0.072586   \n",
       "MaxTemp        0.736555  1.000000 -0.074992     0.587932  0.470156   \n",
       "Rainfall       0.103938 -0.074992  1.000000    -0.064351 -0.227549   \n",
       "Evaporation    0.466993  0.587932 -0.064351     1.000000  0.365602   \n",
       "Sunshine       0.072586  0.470156 -0.227549     0.365602  1.000000   \n",
       "WindGustSpeed  0.177415  0.067615  0.133659     0.203021 -0.034750   \n",
       "WindSpeed9am   0.175064  0.014450  0.087338     0.193084  0.005499   \n",
       "WindSpeed3pm   0.175173  0.050300  0.057887     0.129400  0.053834   \n",
       "Humidity9am   -0.232899 -0.504110  0.224405    -0.504092 -0.490819   \n",
       "Humidity3pm    0.006089 -0.508855  0.255755    -0.390243 -0.629130   \n",
       "Pressure9am   -0.450970 -0.332061 -0.168154    -0.270362  0.041970   \n",
       "Pressure3pm   -0.461292 -0.427167 -0.126534    -0.293581 -0.019719   \n",
       "Cloud9am       0.078754 -0.289370  0.198528    -0.183793 -0.675323   \n",
       "Cloud3pm       0.021605 -0.277921  0.172403    -0.182618 -0.703930   \n",
       "Temp9am        0.901821  0.887210  0.011192     0.545115  0.291188   \n",
       "Temp3pm        0.708906  0.984503 -0.079657     0.572893  0.490501   \n",
       "\n",
       "               WindGustSpeed  WindSpeed9am  WindSpeed3pm  Humidity9am  \\\n",
       "MinTemp             0.177415      0.175064      0.175173    -0.232899   \n",
       "MaxTemp             0.067615      0.014450      0.050300    -0.504110   \n",
       "Rainfall            0.133659      0.087338      0.057887     0.224405   \n",
       "Evaporation         0.203021      0.193084      0.129400    -0.504092   \n",
       "Sunshine           -0.034750      0.005499      0.053834    -0.490819   \n",
       "WindGustSpeed       1.000000      0.605303      0.686307    -0.215070   \n",
       "WindSpeed9am        0.605303      1.000000      0.519547    -0.270858   \n",
       "WindSpeed3pm        0.686307      0.519547      1.000000    -0.145525   \n",
       "Humidity9am        -0.215070     -0.270858     -0.145525     1.000000   \n",
       "Humidity3pm        -0.026327     -0.031614      0.016432     0.666949   \n",
       "Pressure9am        -0.458744     -0.228743     -0.296351     0.139442   \n",
       "Pressure3pm        -0.413749     -0.175817     -0.255439     0.186858   \n",
       "Cloud9am            0.071736      0.025112      0.053337     0.452297   \n",
       "Cloud3pm            0.109168      0.054639      0.025396     0.357326   \n",
       "Temp9am             0.150150      0.128545      0.163030    -0.471354   \n",
       "Temp3pm             0.032748      0.004569      0.027778    -0.498399   \n",
       "\n",
       "               Humidity3pm  Pressure9am  Pressure3pm  Cloud9am  Cloud3pm  \\\n",
       "MinTemp           0.006089    -0.450970    -0.461292  0.078754  0.021605   \n",
       "MaxTemp          -0.508855    -0.332061    -0.427167 -0.289370 -0.277921   \n",
       "Rainfall          0.255755    -0.168154    -0.126534  0.198528  0.172403   \n",
       "Evaporation      -0.390243    -0.270362    -0.293581 -0.183793 -0.182618   \n",
       "Sunshine         -0.629130     0.041970    -0.019719 -0.675323 -0.703930   \n",
       "WindGustSpeed    -0.026327    -0.458744    -0.413749  0.071736  0.109168   \n",
       "WindSpeed9am     -0.031614    -0.228743    -0.175817  0.025112  0.054639   \n",
       "WindSpeed3pm      0.016432    -0.296351    -0.255439  0.053337  0.025396   \n",
       "Humidity9am       0.666949     0.139442     0.186858  0.452297  0.357326   \n",
       "Humidity3pm       1.000000    -0.027544     0.051997  0.517120  0.523120   \n",
       "Pressure9am      -0.027544     1.000000     0.961326 -0.129796 -0.147861   \n",
       "Pressure3pm       0.051997     0.961326     1.000000 -0.060772 -0.084778   \n",
       "Cloud9am          0.517120    -0.129796    -0.060772  1.000000  0.603564   \n",
       "Cloud3pm          0.523120    -0.147861    -0.084778  0.603564  1.000000   \n",
       "Temp9am          -0.221019    -0.422556    -0.470187 -0.136959 -0.126659   \n",
       "Temp3pm          -0.557841    -0.286770    -0.389548 -0.302060 -0.317420   \n",
       "\n",
       "                Temp9am   Temp3pm  \n",
       "MinTemp        0.901821  0.708906  \n",
       "MaxTemp        0.887210  0.984503  \n",
       "Rainfall       0.011192 -0.079657  \n",
       "Evaporation    0.545115  0.572893  \n",
       "Sunshine       0.291188  0.490501  \n",
       "WindGustSpeed  0.150150  0.032748  \n",
       "WindSpeed9am   0.128545  0.004569  \n",
       "WindSpeed3pm   0.163030  0.027778  \n",
       "Humidity9am   -0.471354 -0.498399  \n",
       "Humidity3pm   -0.221019 -0.557841  \n",
       "Pressure9am   -0.422556 -0.286770  \n",
       "Pressure3pm   -0.470187 -0.389548  \n",
       "Cloud9am      -0.136959 -0.302060  \n",
       "Cloud3pm      -0.126659 -0.317420  \n",
       "Temp9am        1.000000  0.860591  \n",
       "Temp3pm        0.860591  1.000000  "
      ]
     },
     "execution_count": 11,
     "metadata": {},
     "output_type": "execute_result"
    }
   ],
   "source": [
    "df.corr()"
   ]
  },
  {
   "cell_type": "code",
   "execution_count": 12,
   "id": "ba2dbd58",
   "metadata": {},
   "outputs": [
    {
     "data": {
      "text/plain": [
       "Date              object\n",
       "Location          object\n",
       "MinTemp          float64\n",
       "MaxTemp          float64\n",
       "Rainfall         float64\n",
       "Evaporation      float64\n",
       "Sunshine         float64\n",
       "WindGustDir       object\n",
       "WindGustSpeed    float64\n",
       "WindDir9am        object\n",
       "WindDir3pm        object\n",
       "WindSpeed9am     float64\n",
       "WindSpeed3pm     float64\n",
       "Humidity9am      float64\n",
       "Humidity3pm      float64\n",
       "Pressure9am      float64\n",
       "Pressure3pm      float64\n",
       "Cloud9am         float64\n",
       "Cloud3pm         float64\n",
       "Temp9am          float64\n",
       "Temp3pm          float64\n",
       "RainToday         object\n",
       "RainTomorrow      object\n",
       "dtype: object"
      ]
     },
     "execution_count": 12,
     "metadata": {},
     "output_type": "execute_result"
    }
   ],
   "source": [
    "df.dtypes"
   ]
  },
  {
   "cell_type": "code",
   "execution_count": 13,
   "id": "01f7ed4d",
   "metadata": {},
   "outputs": [],
   "source": [
    "# checking the null values"
   ]
  },
  {
   "cell_type": "code",
   "execution_count": 14,
   "id": "13648123",
   "metadata": {},
   "outputs": [
    {
     "data": {
      "text/plain": [
       "Date                 0\n",
       "Location             0\n",
       "MinTemp           1485\n",
       "MaxTemp           1261\n",
       "Rainfall          3261\n",
       "Evaporation      62790\n",
       "Sunshine         69835\n",
       "WindGustDir      10326\n",
       "WindGustSpeed    10263\n",
       "WindDir9am       10566\n",
       "WindDir3pm        4228\n",
       "WindSpeed9am      1767\n",
       "WindSpeed3pm      3062\n",
       "Humidity9am       2654\n",
       "Humidity3pm       4507\n",
       "Pressure9am      15065\n",
       "Pressure3pm      15028\n",
       "Cloud9am         55888\n",
       "Cloud3pm         59358\n",
       "Temp9am           1767\n",
       "Temp3pm           3609\n",
       "RainToday         3261\n",
       "RainTomorrow      3267\n",
       "dtype: int64"
      ]
     },
     "execution_count": 14,
     "metadata": {},
     "output_type": "execute_result"
    }
   ],
   "source": [
    "df.isna().sum()"
   ]
  },
  {
   "cell_type": "code",
   "execution_count": 15,
   "id": "af4ac154",
   "metadata": {},
   "outputs": [
    {
     "data": {
      "text/html": [
       "<div>\n",
       "<style scoped>\n",
       "    .dataframe tbody tr th:only-of-type {\n",
       "        vertical-align: middle;\n",
       "    }\n",
       "\n",
       "    .dataframe tbody tr th {\n",
       "        vertical-align: top;\n",
       "    }\n",
       "\n",
       "    .dataframe thead th {\n",
       "        text-align: right;\n",
       "    }\n",
       "</style>\n",
       "<table border=\"1\" class=\"dataframe\">\n",
       "  <thead>\n",
       "    <tr style=\"text-align: right;\">\n",
       "      <th></th>\n",
       "      <th>MinTemp</th>\n",
       "      <th>MaxTemp</th>\n",
       "      <th>Rainfall</th>\n",
       "      <th>Evaporation</th>\n",
       "      <th>Sunshine</th>\n",
       "      <th>WindGustSpeed</th>\n",
       "      <th>WindSpeed9am</th>\n",
       "      <th>WindSpeed3pm</th>\n",
       "      <th>Humidity9am</th>\n",
       "      <th>Humidity3pm</th>\n",
       "      <th>Pressure9am</th>\n",
       "      <th>Pressure3pm</th>\n",
       "      <th>Cloud9am</th>\n",
       "      <th>Cloud3pm</th>\n",
       "      <th>Temp9am</th>\n",
       "      <th>Temp3pm</th>\n",
       "    </tr>\n",
       "  </thead>\n",
       "  <tbody>\n",
       "    <tr>\n",
       "      <th>MinTemp</th>\n",
       "      <td>1.000000</td>\n",
       "      <td>0.736555</td>\n",
       "      <td>0.103938</td>\n",
       "      <td>0.466993</td>\n",
       "      <td>0.072586</td>\n",
       "      <td>0.177415</td>\n",
       "      <td>0.175064</td>\n",
       "      <td>0.175173</td>\n",
       "      <td>-0.232899</td>\n",
       "      <td>0.006089</td>\n",
       "      <td>-0.450970</td>\n",
       "      <td>-0.461292</td>\n",
       "      <td>0.078754</td>\n",
       "      <td>0.021605</td>\n",
       "      <td>0.901821</td>\n",
       "      <td>0.708906</td>\n",
       "    </tr>\n",
       "    <tr>\n",
       "      <th>MaxTemp</th>\n",
       "      <td>0.736555</td>\n",
       "      <td>1.000000</td>\n",
       "      <td>-0.074992</td>\n",
       "      <td>0.587932</td>\n",
       "      <td>0.470156</td>\n",
       "      <td>0.067615</td>\n",
       "      <td>0.014450</td>\n",
       "      <td>0.050300</td>\n",
       "      <td>-0.504110</td>\n",
       "      <td>-0.508855</td>\n",
       "      <td>-0.332061</td>\n",
       "      <td>-0.427167</td>\n",
       "      <td>-0.289370</td>\n",
       "      <td>-0.277921</td>\n",
       "      <td>0.887210</td>\n",
       "      <td>0.984503</td>\n",
       "    </tr>\n",
       "    <tr>\n",
       "      <th>Rainfall</th>\n",
       "      <td>0.103938</td>\n",
       "      <td>-0.074992</td>\n",
       "      <td>1.000000</td>\n",
       "      <td>-0.064351</td>\n",
       "      <td>-0.227549</td>\n",
       "      <td>0.133659</td>\n",
       "      <td>0.087338</td>\n",
       "      <td>0.057887</td>\n",
       "      <td>0.224405</td>\n",
       "      <td>0.255755</td>\n",
       "      <td>-0.168154</td>\n",
       "      <td>-0.126534</td>\n",
       "      <td>0.198528</td>\n",
       "      <td>0.172403</td>\n",
       "      <td>0.011192</td>\n",
       "      <td>-0.079657</td>\n",
       "    </tr>\n",
       "    <tr>\n",
       "      <th>Evaporation</th>\n",
       "      <td>0.466993</td>\n",
       "      <td>0.587932</td>\n",
       "      <td>-0.064351</td>\n",
       "      <td>1.000000</td>\n",
       "      <td>0.365602</td>\n",
       "      <td>0.203021</td>\n",
       "      <td>0.193084</td>\n",
       "      <td>0.129400</td>\n",
       "      <td>-0.504092</td>\n",
       "      <td>-0.390243</td>\n",
       "      <td>-0.270362</td>\n",
       "      <td>-0.293581</td>\n",
       "      <td>-0.183793</td>\n",
       "      <td>-0.182618</td>\n",
       "      <td>0.545115</td>\n",
       "      <td>0.572893</td>\n",
       "    </tr>\n",
       "    <tr>\n",
       "      <th>Sunshine</th>\n",
       "      <td>0.072586</td>\n",
       "      <td>0.470156</td>\n",
       "      <td>-0.227549</td>\n",
       "      <td>0.365602</td>\n",
       "      <td>1.000000</td>\n",
       "      <td>-0.034750</td>\n",
       "      <td>0.005499</td>\n",
       "      <td>0.053834</td>\n",
       "      <td>-0.490819</td>\n",
       "      <td>-0.629130</td>\n",
       "      <td>0.041970</td>\n",
       "      <td>-0.019719</td>\n",
       "      <td>-0.675323</td>\n",
       "      <td>-0.703930</td>\n",
       "      <td>0.291188</td>\n",
       "      <td>0.490501</td>\n",
       "    </tr>\n",
       "    <tr>\n",
       "      <th>WindGustSpeed</th>\n",
       "      <td>0.177415</td>\n",
       "      <td>0.067615</td>\n",
       "      <td>0.133659</td>\n",
       "      <td>0.203021</td>\n",
       "      <td>-0.034750</td>\n",
       "      <td>1.000000</td>\n",
       "      <td>0.605303</td>\n",
       "      <td>0.686307</td>\n",
       "      <td>-0.215070</td>\n",
       "      <td>-0.026327</td>\n",
       "      <td>-0.458744</td>\n",
       "      <td>-0.413749</td>\n",
       "      <td>0.071736</td>\n",
       "      <td>0.109168</td>\n",
       "      <td>0.150150</td>\n",
       "      <td>0.032748</td>\n",
       "    </tr>\n",
       "    <tr>\n",
       "      <th>WindSpeed9am</th>\n",
       "      <td>0.175064</td>\n",
       "      <td>0.014450</td>\n",
       "      <td>0.087338</td>\n",
       "      <td>0.193084</td>\n",
       "      <td>0.005499</td>\n",
       "      <td>0.605303</td>\n",
       "      <td>1.000000</td>\n",
       "      <td>0.519547</td>\n",
       "      <td>-0.270858</td>\n",
       "      <td>-0.031614</td>\n",
       "      <td>-0.228743</td>\n",
       "      <td>-0.175817</td>\n",
       "      <td>0.025112</td>\n",
       "      <td>0.054639</td>\n",
       "      <td>0.128545</td>\n",
       "      <td>0.004569</td>\n",
       "    </tr>\n",
       "    <tr>\n",
       "      <th>WindSpeed3pm</th>\n",
       "      <td>0.175173</td>\n",
       "      <td>0.050300</td>\n",
       "      <td>0.057887</td>\n",
       "      <td>0.129400</td>\n",
       "      <td>0.053834</td>\n",
       "      <td>0.686307</td>\n",
       "      <td>0.519547</td>\n",
       "      <td>1.000000</td>\n",
       "      <td>-0.145525</td>\n",
       "      <td>0.016432</td>\n",
       "      <td>-0.296351</td>\n",
       "      <td>-0.255439</td>\n",
       "      <td>0.053337</td>\n",
       "      <td>0.025396</td>\n",
       "      <td>0.163030</td>\n",
       "      <td>0.027778</td>\n",
       "    </tr>\n",
       "    <tr>\n",
       "      <th>Humidity9am</th>\n",
       "      <td>-0.232899</td>\n",
       "      <td>-0.504110</td>\n",
       "      <td>0.224405</td>\n",
       "      <td>-0.504092</td>\n",
       "      <td>-0.490819</td>\n",
       "      <td>-0.215070</td>\n",
       "      <td>-0.270858</td>\n",
       "      <td>-0.145525</td>\n",
       "      <td>1.000000</td>\n",
       "      <td>0.666949</td>\n",
       "      <td>0.139442</td>\n",
       "      <td>0.186858</td>\n",
       "      <td>0.452297</td>\n",
       "      <td>0.357326</td>\n",
       "      <td>-0.471354</td>\n",
       "      <td>-0.498399</td>\n",
       "    </tr>\n",
       "    <tr>\n",
       "      <th>Humidity3pm</th>\n",
       "      <td>0.006089</td>\n",
       "      <td>-0.508855</td>\n",
       "      <td>0.255755</td>\n",
       "      <td>-0.390243</td>\n",
       "      <td>-0.629130</td>\n",
       "      <td>-0.026327</td>\n",
       "      <td>-0.031614</td>\n",
       "      <td>0.016432</td>\n",
       "      <td>0.666949</td>\n",
       "      <td>1.000000</td>\n",
       "      <td>-0.027544</td>\n",
       "      <td>0.051997</td>\n",
       "      <td>0.517120</td>\n",
       "      <td>0.523120</td>\n",
       "      <td>-0.221019</td>\n",
       "      <td>-0.557841</td>\n",
       "    </tr>\n",
       "    <tr>\n",
       "      <th>Pressure9am</th>\n",
       "      <td>-0.450970</td>\n",
       "      <td>-0.332061</td>\n",
       "      <td>-0.168154</td>\n",
       "      <td>-0.270362</td>\n",
       "      <td>0.041970</td>\n",
       "      <td>-0.458744</td>\n",
       "      <td>-0.228743</td>\n",
       "      <td>-0.296351</td>\n",
       "      <td>0.139442</td>\n",
       "      <td>-0.027544</td>\n",
       "      <td>1.000000</td>\n",
       "      <td>0.961326</td>\n",
       "      <td>-0.129796</td>\n",
       "      <td>-0.147861</td>\n",
       "      <td>-0.422556</td>\n",
       "      <td>-0.286770</td>\n",
       "    </tr>\n",
       "    <tr>\n",
       "      <th>Pressure3pm</th>\n",
       "      <td>-0.461292</td>\n",
       "      <td>-0.427167</td>\n",
       "      <td>-0.126534</td>\n",
       "      <td>-0.293581</td>\n",
       "      <td>-0.019719</td>\n",
       "      <td>-0.413749</td>\n",
       "      <td>-0.175817</td>\n",
       "      <td>-0.255439</td>\n",
       "      <td>0.186858</td>\n",
       "      <td>0.051997</td>\n",
       "      <td>0.961326</td>\n",
       "      <td>1.000000</td>\n",
       "      <td>-0.060772</td>\n",
       "      <td>-0.084778</td>\n",
       "      <td>-0.470187</td>\n",
       "      <td>-0.389548</td>\n",
       "    </tr>\n",
       "    <tr>\n",
       "      <th>Cloud9am</th>\n",
       "      <td>0.078754</td>\n",
       "      <td>-0.289370</td>\n",
       "      <td>0.198528</td>\n",
       "      <td>-0.183793</td>\n",
       "      <td>-0.675323</td>\n",
       "      <td>0.071736</td>\n",
       "      <td>0.025112</td>\n",
       "      <td>0.053337</td>\n",
       "      <td>0.452297</td>\n",
       "      <td>0.517120</td>\n",
       "      <td>-0.129796</td>\n",
       "      <td>-0.060772</td>\n",
       "      <td>1.000000</td>\n",
       "      <td>0.603564</td>\n",
       "      <td>-0.136959</td>\n",
       "      <td>-0.302060</td>\n",
       "    </tr>\n",
       "    <tr>\n",
       "      <th>Cloud3pm</th>\n",
       "      <td>0.021605</td>\n",
       "      <td>-0.277921</td>\n",
       "      <td>0.172403</td>\n",
       "      <td>-0.182618</td>\n",
       "      <td>-0.703930</td>\n",
       "      <td>0.109168</td>\n",
       "      <td>0.054639</td>\n",
       "      <td>0.025396</td>\n",
       "      <td>0.357326</td>\n",
       "      <td>0.523120</td>\n",
       "      <td>-0.147861</td>\n",
       "      <td>-0.084778</td>\n",
       "      <td>0.603564</td>\n",
       "      <td>1.000000</td>\n",
       "      <td>-0.126659</td>\n",
       "      <td>-0.317420</td>\n",
       "    </tr>\n",
       "    <tr>\n",
       "      <th>Temp9am</th>\n",
       "      <td>0.901821</td>\n",
       "      <td>0.887210</td>\n",
       "      <td>0.011192</td>\n",
       "      <td>0.545115</td>\n",
       "      <td>0.291188</td>\n",
       "      <td>0.150150</td>\n",
       "      <td>0.128545</td>\n",
       "      <td>0.163030</td>\n",
       "      <td>-0.471354</td>\n",
       "      <td>-0.221019</td>\n",
       "      <td>-0.422556</td>\n",
       "      <td>-0.470187</td>\n",
       "      <td>-0.136959</td>\n",
       "      <td>-0.126659</td>\n",
       "      <td>1.000000</td>\n",
       "      <td>0.860591</td>\n",
       "    </tr>\n",
       "    <tr>\n",
       "      <th>Temp3pm</th>\n",
       "      <td>0.708906</td>\n",
       "      <td>0.984503</td>\n",
       "      <td>-0.079657</td>\n",
       "      <td>0.572893</td>\n",
       "      <td>0.490501</td>\n",
       "      <td>0.032748</td>\n",
       "      <td>0.004569</td>\n",
       "      <td>0.027778</td>\n",
       "      <td>-0.498399</td>\n",
       "      <td>-0.557841</td>\n",
       "      <td>-0.286770</td>\n",
       "      <td>-0.389548</td>\n",
       "      <td>-0.302060</td>\n",
       "      <td>-0.317420</td>\n",
       "      <td>0.860591</td>\n",
       "      <td>1.000000</td>\n",
       "    </tr>\n",
       "  </tbody>\n",
       "</table>\n",
       "</div>"
      ],
      "text/plain": [
       "                MinTemp   MaxTemp  Rainfall  Evaporation  Sunshine  \\\n",
       "MinTemp        1.000000  0.736555  0.103938     0.466993  0.072586   \n",
       "MaxTemp        0.736555  1.000000 -0.074992     0.587932  0.470156   \n",
       "Rainfall       0.103938 -0.074992  1.000000    -0.064351 -0.227549   \n",
       "Evaporation    0.466993  0.587932 -0.064351     1.000000  0.365602   \n",
       "Sunshine       0.072586  0.470156 -0.227549     0.365602  1.000000   \n",
       "WindGustSpeed  0.177415  0.067615  0.133659     0.203021 -0.034750   \n",
       "WindSpeed9am   0.175064  0.014450  0.087338     0.193084  0.005499   \n",
       "WindSpeed3pm   0.175173  0.050300  0.057887     0.129400  0.053834   \n",
       "Humidity9am   -0.232899 -0.504110  0.224405    -0.504092 -0.490819   \n",
       "Humidity3pm    0.006089 -0.508855  0.255755    -0.390243 -0.629130   \n",
       "Pressure9am   -0.450970 -0.332061 -0.168154    -0.270362  0.041970   \n",
       "Pressure3pm   -0.461292 -0.427167 -0.126534    -0.293581 -0.019719   \n",
       "Cloud9am       0.078754 -0.289370  0.198528    -0.183793 -0.675323   \n",
       "Cloud3pm       0.021605 -0.277921  0.172403    -0.182618 -0.703930   \n",
       "Temp9am        0.901821  0.887210  0.011192     0.545115  0.291188   \n",
       "Temp3pm        0.708906  0.984503 -0.079657     0.572893  0.490501   \n",
       "\n",
       "               WindGustSpeed  WindSpeed9am  WindSpeed3pm  Humidity9am  \\\n",
       "MinTemp             0.177415      0.175064      0.175173    -0.232899   \n",
       "MaxTemp             0.067615      0.014450      0.050300    -0.504110   \n",
       "Rainfall            0.133659      0.087338      0.057887     0.224405   \n",
       "Evaporation         0.203021      0.193084      0.129400    -0.504092   \n",
       "Sunshine           -0.034750      0.005499      0.053834    -0.490819   \n",
       "WindGustSpeed       1.000000      0.605303      0.686307    -0.215070   \n",
       "WindSpeed9am        0.605303      1.000000      0.519547    -0.270858   \n",
       "WindSpeed3pm        0.686307      0.519547      1.000000    -0.145525   \n",
       "Humidity9am        -0.215070     -0.270858     -0.145525     1.000000   \n",
       "Humidity3pm        -0.026327     -0.031614      0.016432     0.666949   \n",
       "Pressure9am        -0.458744     -0.228743     -0.296351     0.139442   \n",
       "Pressure3pm        -0.413749     -0.175817     -0.255439     0.186858   \n",
       "Cloud9am            0.071736      0.025112      0.053337     0.452297   \n",
       "Cloud3pm            0.109168      0.054639      0.025396     0.357326   \n",
       "Temp9am             0.150150      0.128545      0.163030    -0.471354   \n",
       "Temp3pm             0.032748      0.004569      0.027778    -0.498399   \n",
       "\n",
       "               Humidity3pm  Pressure9am  Pressure3pm  Cloud9am  Cloud3pm  \\\n",
       "MinTemp           0.006089    -0.450970    -0.461292  0.078754  0.021605   \n",
       "MaxTemp          -0.508855    -0.332061    -0.427167 -0.289370 -0.277921   \n",
       "Rainfall          0.255755    -0.168154    -0.126534  0.198528  0.172403   \n",
       "Evaporation      -0.390243    -0.270362    -0.293581 -0.183793 -0.182618   \n",
       "Sunshine         -0.629130     0.041970    -0.019719 -0.675323 -0.703930   \n",
       "WindGustSpeed    -0.026327    -0.458744    -0.413749  0.071736  0.109168   \n",
       "WindSpeed9am     -0.031614    -0.228743    -0.175817  0.025112  0.054639   \n",
       "WindSpeed3pm      0.016432    -0.296351    -0.255439  0.053337  0.025396   \n",
       "Humidity9am       0.666949     0.139442     0.186858  0.452297  0.357326   \n",
       "Humidity3pm       1.000000    -0.027544     0.051997  0.517120  0.523120   \n",
       "Pressure9am      -0.027544     1.000000     0.961326 -0.129796 -0.147861   \n",
       "Pressure3pm       0.051997     0.961326     1.000000 -0.060772 -0.084778   \n",
       "Cloud9am          0.517120    -0.129796    -0.060772  1.000000  0.603564   \n",
       "Cloud3pm          0.523120    -0.147861    -0.084778  0.603564  1.000000   \n",
       "Temp9am          -0.221019    -0.422556    -0.470187 -0.136959 -0.126659   \n",
       "Temp3pm          -0.557841    -0.286770    -0.389548 -0.302060 -0.317420   \n",
       "\n",
       "                Temp9am   Temp3pm  \n",
       "MinTemp        0.901821  0.708906  \n",
       "MaxTemp        0.887210  0.984503  \n",
       "Rainfall       0.011192 -0.079657  \n",
       "Evaporation    0.545115  0.572893  \n",
       "Sunshine       0.291188  0.490501  \n",
       "WindGustSpeed  0.150150  0.032748  \n",
       "WindSpeed9am   0.128545  0.004569  \n",
       "WindSpeed3pm   0.163030  0.027778  \n",
       "Humidity9am   -0.471354 -0.498399  \n",
       "Humidity3pm   -0.221019 -0.557841  \n",
       "Pressure9am   -0.422556 -0.286770  \n",
       "Pressure3pm   -0.470187 -0.389548  \n",
       "Cloud9am      -0.136959 -0.302060  \n",
       "Cloud3pm      -0.126659 -0.317420  \n",
       "Temp9am        1.000000  0.860591  \n",
       "Temp3pm        0.860591  1.000000  "
      ]
     },
     "execution_count": 15,
     "metadata": {},
     "output_type": "execute_result"
    }
   ],
   "source": [
    "df.corr()"
   ]
  },
  {
   "cell_type": "code",
   "execution_count": 16,
   "id": "45eaa327",
   "metadata": {},
   "outputs": [
    {
     "data": {
      "text/plain": [
       "<AxesSubplot:>"
      ]
     },
     "execution_count": 16,
     "metadata": {},
     "output_type": "execute_result"
    },
    {
     "data": {
      "image/png": "[encoded data removed]",
      "text/plain": [
       "<Figure size 1728x1296 with 2 Axes>"
      ]
     },
     "metadata": {
      "needs_background": "light"
     },
     "output_type": "display_data"
    }
   ],
   "source": [
    "plt.figure(figsize=(24,18))\n",
    "sns.heatmap(df.corr(), annot=True)"
   ]
  },
  {
   "cell_type": "code",
   "execution_count": 17,
   "id": "a634eb08",
   "metadata": {},
   "outputs": [],
   "source": [
    "import plotly.express as px"
   ]
  },
  {
   "cell_type": "code",
   "execution_count": 18,
   "id": "a8ea3ef0",
   "metadata": {},
   "outputs": [],
   "source": [
    "#fig = px.box(df, y=\"RainTomorrow\")\n",
    "\n",
    "#fig.show()"
   ]
  },
  {
   "cell_type": "code",
   "execution_count": 19,
   "id": "e25cec0f",
   "metadata": {},
   "outputs": [],
   "source": [
    "categorical_features=list(df.select_dtypes(include=\"object\").columns)\n",
    "numerical_features=list(df.select_dtypes(exclude=\"object\").columns)"
   ]
  },
  {
   "cell_type": "code",
   "execution_count": 20,
   "id": "fe2b4c7c",
   "metadata": {},
   "outputs": [
    {
     "data": {
      "text/plain": [
       "['Date',\n",
       " 'Location',\n",
       " 'WindGustDir',\n",
       " 'WindDir9am',\n",
       " 'WindDir3pm',\n",
       " 'RainToday',\n",
       " 'RainTomorrow']"
      ]
     },
     "execution_count": 20,
     "metadata": {},
     "output_type": "execute_result"
    }
   ],
   "source": [
    "categorical_features"
   ]
  },
  {
   "cell_type": "code",
   "execution_count": 21,
   "id": "c4da785e",
   "metadata": {},
   "outputs": [
    {
     "data": {
      "text/plain": [
       "['MinTemp',\n",
       " 'MaxTemp',\n",
       " 'Rainfall',\n",
       " 'Evaporation',\n",
       " 'Sunshine',\n",
       " 'WindGustSpeed',\n",
       " 'WindSpeed9am',\n",
       " 'WindSpeed3pm',\n",
       " 'Humidity9am',\n",
       " 'Humidity3pm',\n",
       " 'Pressure9am',\n",
       " 'Pressure3pm',\n",
       " 'Cloud9am',\n",
       " 'Cloud3pm',\n",
       " 'Temp9am',\n",
       " 'Temp3pm']"
      ]
     },
     "execution_count": 21,
     "metadata": {},
     "output_type": "execute_result"
    }
   ],
   "source": [
    "numerical_features"
   ]
  },
  {
   "cell_type": "code",
   "execution_count": 22,
   "id": "6276fd6d",
   "metadata": {},
   "outputs": [
    {
     "data": {
      "text/plain": [
       "Date            False\n",
       "Location        False\n",
       "WindGustDir      True\n",
       "WindDir9am       True\n",
       "WindDir3pm       True\n",
       "RainToday        True\n",
       "RainTomorrow     True\n",
       "dtype: bool"
      ]
     },
     "execution_count": 22,
     "metadata": {},
     "output_type": "execute_result"
    }
   ],
   "source": [
    "df[categorical_features].isnull().any()"
   ]
  },
  {
   "cell_type": "code",
   "execution_count": 23,
   "id": "867a8301",
   "metadata": {},
   "outputs": [],
   "source": [
    "# filling the null values in categorical_features"
   ]
  },
  {
   "cell_type": "code",
   "execution_count": 24,
   "id": "5595b235",
   "metadata": {},
   "outputs": [],
   "source": [
    "df[\"WindGustDir\"]=df.WindGustDir.fillna(\"unknown\")"
   ]
  },
  {
   "cell_type": "code",
   "execution_count": 25,
   "id": "b5c86607",
   "metadata": {},
   "outputs": [],
   "source": [
    "df[\"WindDir9am\"]=df.WindDir9am.fillna(\"unknown\")"
   ]
  },
  {
   "cell_type": "code",
   "execution_count": 26,
   "id": "cd5357bd",
   "metadata": {},
   "outputs": [],
   "source": [
    "df[\"WindDir3pm\"]=df.WindDir3pm.fillna(\"unknown\")"
   ]
  },
  {
   "cell_type": "code",
   "execution_count": 27,
   "id": "5ff0dba7",
   "metadata": {},
   "outputs": [],
   "source": [
    "df[\"RainToday\"]=df.RainToday.fillna(\"unknown\")"
   ]
  },
  {
   "cell_type": "code",
   "execution_count": 28,
   "id": "985f776d",
   "metadata": {},
   "outputs": [],
   "source": [
    "df[\"RainTomorrow\"]=df.RainTomorrow.fillna(\"unknown\")"
   ]
  },
  {
   "cell_type": "code",
   "execution_count": 29,
   "id": "79e97b96",
   "metadata": {},
   "outputs": [
    {
     "data": {
      "text/plain": [
       "Date            False\n",
       "Location        False\n",
       "WindGustDir     False\n",
       "WindDir9am      False\n",
       "WindDir3pm      False\n",
       "RainToday       False\n",
       "RainTomorrow    False\n",
       "dtype: bool"
      ]
     },
     "execution_count": 29,
     "metadata": {},
     "output_type": "execute_result"
    }
   ],
   "source": [
    "df[categorical_features].isnull().any()"
   ]
  },
  {
   "cell_type": "code",
   "execution_count": 30,
   "id": "02f685c5",
   "metadata": {},
   "outputs": [
    {
     "data": {
      "text/plain": [
       "MinTemp          True\n",
       "MaxTemp          True\n",
       "Rainfall         True\n",
       "Evaporation      True\n",
       "Sunshine         True\n",
       "WindGustSpeed    True\n",
       "WindSpeed9am     True\n",
       "WindSpeed3pm     True\n",
       "Humidity9am      True\n",
       "Humidity3pm      True\n",
       "Pressure9am      True\n",
       "Pressure3pm      True\n",
       "Cloud9am         True\n",
       "Cloud3pm         True\n",
       "Temp9am          True\n",
       "Temp3pm          True\n",
       "dtype: bool"
      ]
     },
     "execution_count": 30,
     "metadata": {},
     "output_type": "execute_result"
    }
   ],
   "source": [
    "df[numerical_features].isnull().any()"
   ]
  },
  {
   "cell_type": "code",
   "execution_count": 31,
   "id": "e56e3cd9",
   "metadata": {},
   "outputs": [],
   "source": [
    "# filling the value of numerical_feature"
   ]
  },
  {
   "cell_type": "code",
   "execution_count": 32,
   "id": "cdbc74b5",
   "metadata": {},
   "outputs": [],
   "source": [
    "#df[\"MinTemp\"]=df.MinTemp.fillna(df.mean())\n",
    "#df[\"MaxTemp\"]=df.MaxTemp.fillna(df.mean())\n",
    "#df[\"Rainfall\"]=df.Rainfall.fillna(df.mean())\n",
    "#df[\"Evaporation\"]=df.Evaporation.fillna(df.mean())\n",
    "#df[\"Sunshine\"]=df.Sunshine.fillna(df.mean())\n",
    "#df[\"WindGustSpeed\"]=df.WindGustSpeed.fillna(df.mean())\n",
    "#df[\"WindSpeed9am\"]=df.WindSpeed9am.fillna(df.mean())\n",
    "#df[\"WindSpeed3pm\"]=df.WindSpeed3pm.fillna(df.mean())\n",
    "#df[\"Humidity9am\"]=df.Humidity9am.fillna(df.mean())\n",
    "#df[\"Pressure3pm\"]=df.Pressure3pm.fillna(df.mean())\n",
    "#df[\"Cloud9am \"]=df.Cloud9am.fillna(df.mean())\n",
    "#df[\"Temp9am\"]=df.Temp9am.fillna(df.mean())\n",
    "#df[\"Temp3pm\"]=df.Temp3pm.fillna(df.mean())\n",
    "#df[\"Humidity3pm\"]=df.Humidity3pm.fillna(df.mean())\n",
    "#df[\"Pressure9am\"]=df.Pressure9am.fillna(df.mean())\n",
    "#df[\"Cloud3pm\"]=df.Cloud3pm.fillna(df.mean())\n"
   ]
  },
  {
   "cell_type": "code",
   "execution_count": 33,
   "id": "539c9db1",
   "metadata": {},
   "outputs": [
    {
     "data": {
      "text/plain": [
       "MinTemp          True\n",
       "MaxTemp          True\n",
       "Rainfall         True\n",
       "Evaporation      True\n",
       "Sunshine         True\n",
       "WindGustSpeed    True\n",
       "WindSpeed9am     True\n",
       "WindSpeed3pm     True\n",
       "Humidity9am      True\n",
       "Humidity3pm      True\n",
       "Pressure9am      True\n",
       "Pressure3pm      True\n",
       "Cloud9am         True\n",
       "Cloud3pm         True\n",
       "Temp9am          True\n",
       "Temp3pm          True\n",
       "dtype: bool"
      ]
     },
     "execution_count": 33,
     "metadata": {},
     "output_type": "execute_result"
    }
   ],
   "source": [
    "df[numerical_features].isnull().any()"
   ]
  },
  {
   "cell_type": "code",
   "execution_count": 34,
   "id": "9a715cb5",
   "metadata": {},
   "outputs": [],
   "source": [
    "#df[\"MinTemp\"]=df.MinTemp.fillna(df.mean())"
   ]
  },
  {
   "cell_type": "code",
   "execution_count": 35,
   "id": "2c831d7c",
   "metadata": {},
   "outputs": [],
   "source": [
    "#df[\"MaxTemp\"]=df.MaxTemp.fillna(df.mean())"
   ]
  },
  {
   "cell_type": "code",
   "execution_count": 36,
   "id": "fb3b65ed",
   "metadata": {},
   "outputs": [],
   "source": [
    "#df[\"Rainfall\"]=df.Rainfall.fillna(df.mean())"
   ]
  },
  {
   "cell_type": "code",
   "execution_count": 37,
   "id": "558e21b7",
   "metadata": {},
   "outputs": [],
   "source": [
    "#df[numerical_features].isnull().any()"
   ]
  },
  {
   "cell_type": "code",
   "execution_count": 38,
   "id": "b21cfcc5",
   "metadata": {},
   "outputs": [],
   "source": [
    "df['MinTemp'] = df['MinTemp'].fillna(df['MinTemp'].mean())\n",
    "df['MaxTemp'] = df['MaxTemp'].fillna(df['MaxTemp'].mean())\n",
    "df['Rainfall'] = df['Rainfall'].fillna(df['Rainfall'].mean())\n",
    "df['Evaporation'] = df['Evaporation'].fillna(df['Evaporation'].mean())\n",
    "df['Sunshine'] = df['Sunshine'].fillna(df['Sunshine'].mean())\n",
    "df['WindGustSpeed'] = df['WindGustSpeed'].fillna(df['WindGustSpeed'].mean())\n",
    "df['WindSpeed9am'] = df['WindSpeed9am'].fillna(df['WindSpeed9am'].mean())\n",
    "df['WindSpeed3pm'] = df['WindSpeed3pm'].fillna(df['WindSpeed3pm'].mean())\n",
    "df['Humidity9am'] = df['Humidity9am'].fillna(df['Humidity9am'].mean())\n",
    "df['Humidity3pm'] = df['Humidity3pm'].fillna(df['Humidity3pm'].mean())\n",
    "df['Pressure9am'] = df['Pressure9am'].fillna(df['Pressure9am'].mean())\n",
    "df['Pressure3pm'] = df['Pressure3pm'].fillna(df['Pressure3pm'].mean())\n",
    "df['Cloud9am'] = df['Cloud9am'].fillna(df['Cloud9am'].mean())\n",
    "df['Cloud3pm'] = df['Cloud3pm'].fillna(df['Humidity3pm'].mean())\n",
    "df['Temp9am'] = df['Temp9am'].fillna(df['Temp9am'].mean())\n",
    "df['Temp3pm'] = df['Temp3pm'].fillna(df['Temp3pm'].mean())"
   ]
  },
  {
   "cell_type": "code",
   "execution_count": 39,
   "id": "91a813fe",
   "metadata": {},
   "outputs": [
    {
     "data": {
      "text/plain": [
       "MinTemp          False\n",
       "MaxTemp          False\n",
       "Rainfall         False\n",
       "Evaporation      False\n",
       "Sunshine         False\n",
       "WindGustSpeed    False\n",
       "WindSpeed9am     False\n",
       "WindSpeed3pm     False\n",
       "Humidity9am      False\n",
       "Humidity3pm      False\n",
       "Pressure9am      False\n",
       "Pressure3pm      False\n",
       "Cloud9am         False\n",
       "Cloud3pm         False\n",
       "Temp9am          False\n",
       "Temp3pm          False\n",
       "dtype: bool"
      ]
     },
     "execution_count": 39,
     "metadata": {},
     "output_type": "execute_result"
    }
   ],
   "source": [
    "df[numerical_features].isnull().any()"
   ]
  },
  {
   "cell_type": "code",
   "execution_count": 40,
   "id": "51b9682a",
   "metadata": {},
   "outputs": [
    {
     "data": {
      "image/png": "[encoded data removed]",
      "text/plain": [
       "<Figure size 360x360 with 1 Axes>"
      ]
     },
     "metadata": {
      "needs_background": "light"
     },
     "output_type": "display_data"
    },
    {
     "data": {
      "image/png": "[encoded data removed]",
      "text/plain": [
       "<Figure size 360x360 with 1 Axes>"
      ]
     },
     "metadata": {
      "needs_background": "light"
     },
     "output_type": "display_data"
    },
    {
     "data": {
      "image/png": "[encoded data removed]",
      "text/plain": [
       "<Figure size 360x360 with 1 Axes>"
      ]
     },
     "metadata": {
      "needs_background": "light"
     },
     "output_type": "display_data"
    },
    {
     "data": {
      "image/png": "[encoded data removed]",
      "text/plain": [
       "<Figure size 360x360 with 1 Axes>"
      ]
     },
     "metadata": {
      "needs_background": "light"
     },
     "output_type": "display_data"
    },
    {
     "data": {
      "image/png": "[encoded data removed]",
      "text/plain": [
       "<Figure size 360x360 with 1 Axes>"
      ]
     },
     "metadata": {
      "needs_background": "light"
     },
     "output_type": "display_data"
    },
    {
     "data": {
      "image/png": "[encoded data removed]",
      "text/plain": [
       "<Figure size 360x360 with 1 Axes>"
      ]
     },
     "metadata": {
      "needs_background": "light"
     },
     "output_type": "display_data"
    },
    {
     "data": {
      "image/png": "[encoded data removed]",
      "text/plain": [
       "<Figure size 360x360 with 1 Axes>"
      ]
     },
     "metadata": {
      "needs_background": "light"
     },
     "output_type": "display_data"
    },
    {
     "data": {
      "image/png": "[encoded data removed]",
      "text/plain": [
       "<Figure size 360x360 with 1 Axes>"
      ]
     },
     "metadata": {
      "needs_background": "light"
     },
     "output_type": "display_data"
    },
    {
     "data": {
      "image/png": "[encoded data removed]",
      "text/plain": [
       "<Figure size 360x360 with 1 Axes>"
      ]
     },
     "metadata": {
      "needs_background": "light"
     },
     "output_type": "display_data"
    },
    {
     "data": {
      "image/png": "[encoded data removed]",
      "text/plain": [
       "<Figure size 360x360 with 1 Axes>"
      ]
     },
     "metadata": {
      "needs_background": "light"
     },
     "output_type": "display_data"
    },
    {
     "data": {
      "image/png": "[encoded data removed]",
      "text/plain": [
       "<Figure size 360x360 with 1 Axes>"
      ]
     },
     "metadata": {
      "needs_background": "light"
     },
     "output_type": "display_data"
    },
    {
     "data": {
      "image/png": "[encoded data removed]",
      "text/plain": [
       "<Figure size 360x360 with 1 Axes>"
      ]
     },
     "metadata": {
      "needs_background": "light"
     },
     "output_type": "display_data"
    },
    {
     "data": {
      "image/png": "[encoded data removed]",
      "text/plain": [
       "<Figure size 360x360 with 1 Axes>"
      ]
     },
     "metadata": {
      "needs_background": "light"
     },
     "output_type": "display_data"
    },
    {
     "data": {
      "image/png": "[encoded data removed]",
      "text/plain": [
       "<Figure size 360x360 with 1 Axes>"
      ]
     },
     "metadata": {
      "needs_background": "light"
     },
     "output_type": "display_data"
    },
    {
     "data": {
      "image/png": "[encoded data removed]",
      "text/plain": [
       "<Figure size 360x360 with 1 Axes>"
      ]
     },
     "metadata": {
      "needs_background": "light"
     },
     "output_type": "display_data"
    },
    {
     "data": {
      "image/png": "[encoded data removed]",
      "text/plain": [
       "<Figure size 360x360 with 1 Axes>"
      ]
     },
     "metadata": {
      "needs_background": "light"
     },
     "output_type": "display_data"
    }
   ],
   "source": [
    "for i in numerical_features:\n",
    "    sns.displot(df[i])\n",
    "    plt.show()"
   ]
  },
  {
   "cell_type": "code",
   "execution_count": 41,
   "id": "d915eace",
   "metadata": {},
   "outputs": [],
   "source": [
    "#outliers\n"
   ]
  },
  {
   "cell_type": "code",
   "execution_count": 42,
   "id": "fba14145",
   "metadata": {},
   "outputs": [],
   "source": [
    "def iqr(df,col):\n",
    "    q1,q3=np.percentile(df[col], [25,75])\n",
    "    iqr=q3-q1\n",
    "    lower=q1-1.5*iqr\n",
    "    upper=q3+1.5*iqr\n",
    "    df=df[(df[col]>lower) & (df[col]<upper)]\n",
    "    df.boxplot(col)\n",
    "    "
   ]
  },
  {
   "cell_type": "code",
   "execution_count": 43,
   "id": "243db3fb",
   "metadata": {},
   "outputs": [
    {
     "data": {
      "image/png": "[encoded data removed]",
      "text/plain": [
       "<Figure size 432x288 with 1 Axes>"
      ]
     },
     "metadata": {
      "needs_background": "light"
     },
     "output_type": "display_data"
    },
    {
     "data": {
      "image/png": "[encoded data removed]",
      "text/plain": [
       "<Figure size 432x288 with 1 Axes>"
      ]
     },
     "metadata": {
      "needs_background": "light"
     },
     "output_type": "display_data"
    },
    {
     "data": {
      "image/png": "[encoded data removed]",
      "text/plain": [
       "<Figure size 432x288 with 1 Axes>"
      ]
     },
     "metadata": {
      "needs_background": "light"
     },
     "output_type": "display_data"
    },
    {
     "data": {
      "image/png": "[encoded data removed]",
      "text/plain": [
       "<Figure size 432x288 with 1 Axes>"
      ]
     },
     "metadata": {
      "needs_background": "light"
     },
     "output_type": "display_data"
    },
    {
     "data": {
      "image/png": "[encoded data removed]",
      "text/plain": [
       "<Figure size 432x288 with 1 Axes>"
      ]
     },
     "metadata": {
      "needs_background": "light"
     },
     "output_type": "display_data"
    },
    {
     "data": {
      "image/png": "[encoded data removed]",
      "text/plain": [
       "<Figure size 432x288 with 1 Axes>"
      ]
     },
     "metadata": {
      "needs_background": "light"
     },
     "output_type": "display_data"
    },
    {
     "data": {
      "image/png": "[encoded data removed]",
      "text/plain": [
       "<Figure size 432x288 with 1 Axes>"
      ]
     },
     "metadata": {
      "needs_background": "light"
     },
     "output_type": "display_data"
    },
    {
     "data": {
      "image/png": "[encoded data removed]",
      "text/plain": [
       "<Figure size 432x288 with 1 Axes>"
      ]
     },
     "metadata": {
      "needs_background": "light"
     },
     "output_type": "display_data"
    },
    {
     "data": {
      "image/png": "[encoded data removed]",
      "text/plain": [
       "<Figure size 432x288 with 1 Axes>"
      ]
     },
     "metadata": {
      "needs_background": "light"
     },
     "output_type": "display_data"
    },
    {
     "data": {
      "image/png": "[encoded data removed]",
      "text/plain": [
       "<Figure size 432x288 with 1 Axes>"
      ]
     },
     "metadata": {
      "needs_background": "light"
     },
     "output_type": "display_data"
    },
    {
     "data": {
      "image/png": "[encoded data removed]",
      "text/plain": [
       "<Figure size 432x288 with 1 Axes>"
      ]
     },
     "metadata": {
      "needs_background": "light"
     },
     "output_type": "display_data"
    },
    {
     "data": {
      "image/png": "[encoded data removed]",
      "text/plain": [
       "<Figure size 432x288 with 1 Axes>"
      ]
     },
     "metadata": {
      "needs_background": "light"
     },
     "output_type": "display_data"
    },
    {
     "data": {
      "image/png": "[encoded data removed]",
      "text/plain": [
       "<Figure size 432x288 with 1 Axes>"
      ]
     },
     "metadata": {
      "needs_background": "light"
     },
     "output_type": "display_data"
    },
    {
     "data": {
      "image/png": "[encoded data removed]",
      "text/plain": [
       "<Figure size 432x288 with 1 Axes>"
      ]
     },
     "metadata": {
      "needs_background": "light"
     },
     "output_type": "display_data"
    },
    {
     "data": {
      "image/png": "[encoded data removed]",
      "text/plain": [
       "<Figure size 432x288 with 1 Axes>"
      ]
     },
     "metadata": {
      "needs_background": "light"
     },
     "output_type": "display_data"
    },
    {
     "data": {
      "image/png": "[encoded data removed]",
      "text/plain": [
       "<Figure size 432x288 with 1 Axes>"
      ]
     },
     "metadata": {
      "needs_background": "light"
     },
     "output_type": "display_data"
    }
   ],
   "source": [
    "for i in numerical_features:\n",
    "    iqr(df,i)\n",
    "    plt.show()"
   ]
  },
  {
   "cell_type": "code",
   "execution_count": 44,
   "id": "40b6c35d",
   "metadata": {},
   "outputs": [],
   "source": [
    "# spliting date column in datetime"
   ]
  },
  {
   "cell_type": "code",
   "execution_count": 45,
   "id": "2fba2d61",
   "metadata": {},
   "outputs": [],
   "source": [
    "df[\"Date\"]=pd.to_datetime(df[\"Date\"])"
   ]
  },
  {
   "cell_type": "code",
   "execution_count": 46,
   "id": "e63944a4",
   "metadata": {},
   "outputs": [],
   "source": [
    "df['Year'] = df['Date'].dt.year\n",
    "df['Month'] = df['Date'].dt.month\n",
    "df['Day'] = df['Date'].dt.day"
   ]
  },
  {
   "cell_type": "code",
   "execution_count": 47,
   "id": "8fd38233",
   "metadata": {},
   "outputs": [],
   "source": [
    "df.drop(\"Date\", axis=1, inplace=True)"
   ]
  },
  {
   "cell_type": "code",
   "execution_count": 48,
   "id": "be396d62",
   "metadata": {},
   "outputs": [
    {
     "data": {
      "text/html": [
       "<div>\n",
       "<style scoped>\n",
       "    .dataframe tbody tr th:only-of-type {\n",
       "        vertical-align: middle;\n",
       "    }\n",
       "\n",
       "    .dataframe tbody tr th {\n",
       "        vertical-align: top;\n",
       "    }\n",
       "\n",
       "    .dataframe thead th {\n",
       "        text-align: right;\n",
       "    }\n",
       "</style>\n",
       "<table border=\"1\" class=\"dataframe\">\n",
       "  <thead>\n",
       "    <tr style=\"text-align: right;\">\n",
       "      <th></th>\n",
       "      <th>Location</th>\n",
       "      <th>MinTemp</th>\n",
       "      <th>MaxTemp</th>\n",
       "      <th>Rainfall</th>\n",
       "      <th>Evaporation</th>\n",
       "      <th>Sunshine</th>\n",
       "      <th>WindGustDir</th>\n",
       "      <th>WindGustSpeed</th>\n",
       "      <th>WindDir9am</th>\n",
       "      <th>WindDir3pm</th>\n",
       "      <th>...</th>\n",
       "      <th>Pressure3pm</th>\n",
       "      <th>Cloud9am</th>\n",
       "      <th>Cloud3pm</th>\n",
       "      <th>Temp9am</th>\n",
       "      <th>Temp3pm</th>\n",
       "      <th>RainToday</th>\n",
       "      <th>RainTomorrow</th>\n",
       "      <th>Year</th>\n",
       "      <th>Month</th>\n",
       "      <th>Day</th>\n",
       "    </tr>\n",
       "  </thead>\n",
       "  <tbody>\n",
       "    <tr>\n",
       "      <th>0</th>\n",
       "      <td>Albury</td>\n",
       "      <td>13.4</td>\n",
       "      <td>22.9</td>\n",
       "      <td>0.6</td>\n",
       "      <td>5.468232</td>\n",
       "      <td>7.611178</td>\n",
       "      <td>W</td>\n",
       "      <td>44.0</td>\n",
       "      <td>W</td>\n",
       "      <td>WNW</td>\n",
       "      <td>...</td>\n",
       "      <td>1007.1</td>\n",
       "      <td>8.000000</td>\n",
       "      <td>51.539116</td>\n",
       "      <td>16.9</td>\n",
       "      <td>21.8</td>\n",
       "      <td>No</td>\n",
       "      <td>No</td>\n",
       "      <td>2008</td>\n",
       "      <td>12</td>\n",
       "      <td>1</td>\n",
       "    </tr>\n",
       "    <tr>\n",
       "      <th>1</th>\n",
       "      <td>Albury</td>\n",
       "      <td>7.4</td>\n",
       "      <td>25.1</td>\n",
       "      <td>0.0</td>\n",
       "      <td>5.468232</td>\n",
       "      <td>7.611178</td>\n",
       "      <td>WNW</td>\n",
       "      <td>44.0</td>\n",
       "      <td>NNW</td>\n",
       "      <td>WSW</td>\n",
       "      <td>...</td>\n",
       "      <td>1007.8</td>\n",
       "      <td>4.447461</td>\n",
       "      <td>51.539116</td>\n",
       "      <td>17.2</td>\n",
       "      <td>24.3</td>\n",
       "      <td>No</td>\n",
       "      <td>No</td>\n",
       "      <td>2008</td>\n",
       "      <td>12</td>\n",
       "      <td>2</td>\n",
       "    </tr>\n",
       "    <tr>\n",
       "      <th>2</th>\n",
       "      <td>Albury</td>\n",
       "      <td>12.9</td>\n",
       "      <td>25.7</td>\n",
       "      <td>0.0</td>\n",
       "      <td>5.468232</td>\n",
       "      <td>7.611178</td>\n",
       "      <td>WSW</td>\n",
       "      <td>46.0</td>\n",
       "      <td>W</td>\n",
       "      <td>WSW</td>\n",
       "      <td>...</td>\n",
       "      <td>1008.7</td>\n",
       "      <td>4.447461</td>\n",
       "      <td>2.000000</td>\n",
       "      <td>21.0</td>\n",
       "      <td>23.2</td>\n",
       "      <td>No</td>\n",
       "      <td>No</td>\n",
       "      <td>2008</td>\n",
       "      <td>12</td>\n",
       "      <td>3</td>\n",
       "    </tr>\n",
       "    <tr>\n",
       "      <th>3</th>\n",
       "      <td>Albury</td>\n",
       "      <td>9.2</td>\n",
       "      <td>28.0</td>\n",
       "      <td>0.0</td>\n",
       "      <td>5.468232</td>\n",
       "      <td>7.611178</td>\n",
       "      <td>NE</td>\n",
       "      <td>24.0</td>\n",
       "      <td>SE</td>\n",
       "      <td>E</td>\n",
       "      <td>...</td>\n",
       "      <td>1012.8</td>\n",
       "      <td>4.447461</td>\n",
       "      <td>51.539116</td>\n",
       "      <td>18.1</td>\n",
       "      <td>26.5</td>\n",
       "      <td>No</td>\n",
       "      <td>No</td>\n",
       "      <td>2008</td>\n",
       "      <td>12</td>\n",
       "      <td>4</td>\n",
       "    </tr>\n",
       "    <tr>\n",
       "      <th>4</th>\n",
       "      <td>Albury</td>\n",
       "      <td>17.5</td>\n",
       "      <td>32.3</td>\n",
       "      <td>1.0</td>\n",
       "      <td>5.468232</td>\n",
       "      <td>7.611178</td>\n",
       "      <td>W</td>\n",
       "      <td>41.0</td>\n",
       "      <td>ENE</td>\n",
       "      <td>NW</td>\n",
       "      <td>...</td>\n",
       "      <td>1006.0</td>\n",
       "      <td>7.000000</td>\n",
       "      <td>8.000000</td>\n",
       "      <td>17.8</td>\n",
       "      <td>29.7</td>\n",
       "      <td>No</td>\n",
       "      <td>No</td>\n",
       "      <td>2008</td>\n",
       "      <td>12</td>\n",
       "      <td>5</td>\n",
       "    </tr>\n",
       "  </tbody>\n",
       "</table>\n",
       "<p>5 rows × 25 columns</p>\n",
       "</div>"
      ],
      "text/plain": [
       "  Location  MinTemp  MaxTemp  Rainfall  Evaporation  Sunshine WindGustDir  \\\n",
       "0   Albury     13.4     22.9       0.6     5.468232  7.611178           W   \n",
       "1   Albury      7.4     25.1       0.0     5.468232  7.611178         WNW   \n",
       "2   Albury     12.9     25.7       0.0     5.468232  7.611178         WSW   \n",
       "3   Albury      9.2     28.0       0.0     5.468232  7.611178          NE   \n",
       "4   Albury     17.5     32.3       1.0     5.468232  7.611178           W   \n",
       "\n",
       "   WindGustSpeed WindDir9am WindDir3pm  ...  Pressure3pm  Cloud9am   Cloud3pm  \\\n",
       "0           44.0          W        WNW  ...       1007.1  8.000000  51.539116   \n",
       "1           44.0        NNW        WSW  ...       1007.8  4.447461  51.539116   \n",
       "2           46.0          W        WSW  ...       1008.7  4.447461   2.000000   \n",
       "3           24.0         SE          E  ...       1012.8  4.447461  51.539116   \n",
       "4           41.0        ENE         NW  ...       1006.0  7.000000   8.000000   \n",
       "\n",
       "   Temp9am  Temp3pm  RainToday  RainTomorrow  Year  Month  Day  \n",
       "0     16.9     21.8         No            No  2008     12    1  \n",
       "1     17.2     24.3         No            No  2008     12    2  \n",
       "2     21.0     23.2         No            No  2008     12    3  \n",
       "3     18.1     26.5         No            No  2008     12    4  \n",
       "4     17.8     29.7         No            No  2008     12    5  \n",
       "\n",
       "[5 rows x 25 columns]"
      ]
     },
     "execution_count": 48,
     "metadata": {},
     "output_type": "execute_result"
    }
   ],
   "source": [
    "df.head()"
   ]
  },
  {
   "cell_type": "code",
   "execution_count": 49,
   "id": "94a6deb2",
   "metadata": {},
   "outputs": [],
   "source": [
    "from sklearn.preprocessing import LabelEncoder\n"
   ]
  },
  {
   "cell_type": "code",
   "execution_count": 50,
   "id": "f1296456",
   "metadata": {},
   "outputs": [],
   "source": [
    "le=LabelEncoder()"
   ]
  },
  {
   "cell_type": "code",
   "execution_count": 51,
   "id": "4f3a562a",
   "metadata": {},
   "outputs": [
    {
     "data": {
      "text/plain": [
       "LabelEncoder()"
      ]
     },
     "execution_count": 51,
     "metadata": {},
     "output_type": "execute_result"
    }
   ],
   "source": [
    "le"
   ]
  },
  {
   "cell_type": "code",
   "execution_count": 52,
   "id": "86012b98",
   "metadata": {},
   "outputs": [],
   "source": [
    "for i in df.select_dtypes(include=\"object\").columns:\n",
    "    df[i]=le.fit_transform(df[i].astype(str))"
   ]
  },
  {
   "cell_type": "code",
   "execution_count": 53,
   "id": "d8a75a52",
   "metadata": {},
   "outputs": [
    {
     "name": "stdout",
     "output_type": "stream",
     "text": [
      "<class 'pandas.core.frame.DataFrame'>\n",
      "RangeIndex: 145460 entries, 0 to 145459\n",
      "Data columns (total 25 columns):\n",
      " #   Column         Non-Null Count   Dtype  \n",
      "---  ------         --------------   -----  \n",
      " 0   Location       145460 non-null  int32  \n",
      " 1   MinTemp        145460 non-null  float64\n",
      " 2   MaxTemp        145460 non-null  float64\n",
      " 3   Rainfall       145460 non-null  float64\n",
      " 4   Evaporation    145460 non-null  float64\n",
      " 5   Sunshine       145460 non-null  float64\n",
      " 6   WindGustDir    145460 non-null  int32  \n",
      " 7   WindGustSpeed  145460 non-null  float64\n",
      " 8   WindDir9am     145460 non-null  int32  \n",
      " 9   WindDir3pm     145460 non-null  int32  \n",
      " 10  WindSpeed9am   145460 non-null  float64\n",
      " 11  WindSpeed3pm   145460 non-null  float64\n",
      " 12  Humidity9am    145460 non-null  float64\n",
      " 13  Humidity3pm    145460 non-null  float64\n",
      " 14  Pressure9am    145460 non-null  float64\n",
      " 15  Pressure3pm    145460 non-null  float64\n",
      " 16  Cloud9am       145460 non-null  float64\n",
      " 17  Cloud3pm       145460 non-null  float64\n",
      " 18  Temp9am        145460 non-null  float64\n",
      " 19  Temp3pm        145460 non-null  float64\n",
      " 20  RainToday      145460 non-null  int32  \n",
      " 21  RainTomorrow   145460 non-null  int32  \n",
      " 22  Year           145460 non-null  int64  \n",
      " 23  Month          145460 non-null  int64  \n",
      " 24  Day            145460 non-null  int64  \n",
      "dtypes: float64(16), int32(6), int64(3)\n",
      "memory usage: 24.4 MB\n"
     ]
    }
   ],
   "source": [
    "df.info()"
   ]
  },
  {
   "cell_type": "code",
   "execution_count": 54,
   "id": "720a3b30",
   "metadata": {},
   "outputs": [
    {
     "data": {
      "text/plain": [
       "0         0\n",
       "1         0\n",
       "2         0\n",
       "3         0\n",
       "4         0\n",
       "         ..\n",
       "145455    0\n",
       "145456    0\n",
       "145457    0\n",
       "145458    0\n",
       "145459    2\n",
       "Name: RainTomorrow, Length: 145460, dtype: int32"
      ]
     },
     "execution_count": 54,
     "metadata": {},
     "output_type": "execute_result"
    }
   ],
   "source": [
    "df[i]"
   ]
  },
  {
   "cell_type": "code",
   "execution_count": 55,
   "id": "c71a0e60",
   "metadata": {},
   "outputs": [],
   "source": [
    "x=df.drop([\"RainTomorrow\"], axis=1)"
   ]
  },
  {
   "cell_type": "code",
   "execution_count": 56,
   "id": "85ca6474",
   "metadata": {},
   "outputs": [],
   "source": [
    "y=df[\"RainTomorrow\"]"
   ]
  },
  {
   "cell_type": "code",
   "execution_count": 57,
   "id": "25542226",
   "metadata": {},
   "outputs": [
    {
     "data": {
      "text/html": [
       "<div>\n",
       "<style scoped>\n",
       "    .dataframe tbody tr th:only-of-type {\n",
       "        vertical-align: middle;\n",
       "    }\n",
       "\n",
       "    .dataframe tbody tr th {\n",
       "        vertical-align: top;\n",
       "    }\n",
       "\n",
       "    .dataframe thead th {\n",
       "        text-align: right;\n",
       "    }\n",
       "</style>\n",
       "<table border=\"1\" class=\"dataframe\">\n",
       "  <thead>\n",
       "    <tr style=\"text-align: right;\">\n",
       "      <th></th>\n",
       "      <th>Location</th>\n",
       "      <th>MinTemp</th>\n",
       "      <th>MaxTemp</th>\n",
       "      <th>Rainfall</th>\n",
       "      <th>Evaporation</th>\n",
       "      <th>Sunshine</th>\n",
       "      <th>WindGustDir</th>\n",
       "      <th>WindGustSpeed</th>\n",
       "      <th>WindDir9am</th>\n",
       "      <th>WindDir3pm</th>\n",
       "      <th>...</th>\n",
       "      <th>Pressure9am</th>\n",
       "      <th>Pressure3pm</th>\n",
       "      <th>Cloud9am</th>\n",
       "      <th>Cloud3pm</th>\n",
       "      <th>Temp9am</th>\n",
       "      <th>Temp3pm</th>\n",
       "      <th>RainToday</th>\n",
       "      <th>Year</th>\n",
       "      <th>Month</th>\n",
       "      <th>Day</th>\n",
       "    </tr>\n",
       "  </thead>\n",
       "  <tbody>\n",
       "    <tr>\n",
       "      <th>0</th>\n",
       "      <td>2</td>\n",
       "      <td>13.4</td>\n",
       "      <td>22.900000</td>\n",
       "      <td>0.6</td>\n",
       "      <td>5.468232</td>\n",
       "      <td>7.611178</td>\n",
       "      <td>13</td>\n",
       "      <td>44.00000</td>\n",
       "      <td>13</td>\n",
       "      <td>14</td>\n",
       "      <td>...</td>\n",
       "      <td>1007.7</td>\n",
       "      <td>1007.1</td>\n",
       "      <td>8.000000</td>\n",
       "      <td>51.539116</td>\n",
       "      <td>16.9</td>\n",
       "      <td>21.8</td>\n",
       "      <td>0</td>\n",
       "      <td>2008</td>\n",
       "      <td>12</td>\n",
       "      <td>1</td>\n",
       "    </tr>\n",
       "    <tr>\n",
       "      <th>1</th>\n",
       "      <td>2</td>\n",
       "      <td>7.4</td>\n",
       "      <td>25.100000</td>\n",
       "      <td>0.0</td>\n",
       "      <td>5.468232</td>\n",
       "      <td>7.611178</td>\n",
       "      <td>14</td>\n",
       "      <td>44.00000</td>\n",
       "      <td>6</td>\n",
       "      <td>15</td>\n",
       "      <td>...</td>\n",
       "      <td>1010.6</td>\n",
       "      <td>1007.8</td>\n",
       "      <td>4.447461</td>\n",
       "      <td>51.539116</td>\n",
       "      <td>17.2</td>\n",
       "      <td>24.3</td>\n",
       "      <td>0</td>\n",
       "      <td>2008</td>\n",
       "      <td>12</td>\n",
       "      <td>2</td>\n",
       "    </tr>\n",
       "    <tr>\n",
       "      <th>2</th>\n",
       "      <td>2</td>\n",
       "      <td>12.9</td>\n",
       "      <td>25.700000</td>\n",
       "      <td>0.0</td>\n",
       "      <td>5.468232</td>\n",
       "      <td>7.611178</td>\n",
       "      <td>15</td>\n",
       "      <td>46.00000</td>\n",
       "      <td>13</td>\n",
       "      <td>15</td>\n",
       "      <td>...</td>\n",
       "      <td>1007.6</td>\n",
       "      <td>1008.7</td>\n",
       "      <td>4.447461</td>\n",
       "      <td>2.000000</td>\n",
       "      <td>21.0</td>\n",
       "      <td>23.2</td>\n",
       "      <td>0</td>\n",
       "      <td>2008</td>\n",
       "      <td>12</td>\n",
       "      <td>3</td>\n",
       "    </tr>\n",
       "    <tr>\n",
       "      <th>3</th>\n",
       "      <td>2</td>\n",
       "      <td>9.2</td>\n",
       "      <td>28.000000</td>\n",
       "      <td>0.0</td>\n",
       "      <td>5.468232</td>\n",
       "      <td>7.611178</td>\n",
       "      <td>4</td>\n",
       "      <td>24.00000</td>\n",
       "      <td>9</td>\n",
       "      <td>0</td>\n",
       "      <td>...</td>\n",
       "      <td>1017.6</td>\n",
       "      <td>1012.8</td>\n",
       "      <td>4.447461</td>\n",
       "      <td>51.539116</td>\n",
       "      <td>18.1</td>\n",
       "      <td>26.5</td>\n",
       "      <td>0</td>\n",
       "      <td>2008</td>\n",
       "      <td>12</td>\n",
       "      <td>4</td>\n",
       "    </tr>\n",
       "    <tr>\n",
       "      <th>4</th>\n",
       "      <td>2</td>\n",
       "      <td>17.5</td>\n",
       "      <td>32.300000</td>\n",
       "      <td>1.0</td>\n",
       "      <td>5.468232</td>\n",
       "      <td>7.611178</td>\n",
       "      <td>13</td>\n",
       "      <td>41.00000</td>\n",
       "      <td>1</td>\n",
       "      <td>7</td>\n",
       "      <td>...</td>\n",
       "      <td>1010.8</td>\n",
       "      <td>1006.0</td>\n",
       "      <td>7.000000</td>\n",
       "      <td>8.000000</td>\n",
       "      <td>17.8</td>\n",
       "      <td>29.7</td>\n",
       "      <td>0</td>\n",
       "      <td>2008</td>\n",
       "      <td>12</td>\n",
       "      <td>5</td>\n",
       "    </tr>\n",
       "    <tr>\n",
       "      <th>...</th>\n",
       "      <td>...</td>\n",
       "      <td>...</td>\n",
       "      <td>...</td>\n",
       "      <td>...</td>\n",
       "      <td>...</td>\n",
       "      <td>...</td>\n",
       "      <td>...</td>\n",
       "      <td>...</td>\n",
       "      <td>...</td>\n",
       "      <td>...</td>\n",
       "      <td>...</td>\n",
       "      <td>...</td>\n",
       "      <td>...</td>\n",
       "      <td>...</td>\n",
       "      <td>...</td>\n",
       "      <td>...</td>\n",
       "      <td>...</td>\n",
       "      <td>...</td>\n",
       "      <td>...</td>\n",
       "      <td>...</td>\n",
       "      <td>...</td>\n",
       "    </tr>\n",
       "    <tr>\n",
       "      <th>145455</th>\n",
       "      <td>41</td>\n",
       "      <td>2.8</td>\n",
       "      <td>23.400000</td>\n",
       "      <td>0.0</td>\n",
       "      <td>5.468232</td>\n",
       "      <td>7.611178</td>\n",
       "      <td>0</td>\n",
       "      <td>31.00000</td>\n",
       "      <td>9</td>\n",
       "      <td>1</td>\n",
       "      <td>...</td>\n",
       "      <td>1024.6</td>\n",
       "      <td>1020.3</td>\n",
       "      <td>4.447461</td>\n",
       "      <td>51.539116</td>\n",
       "      <td>10.1</td>\n",
       "      <td>22.4</td>\n",
       "      <td>0</td>\n",
       "      <td>2017</td>\n",
       "      <td>6</td>\n",
       "      <td>21</td>\n",
       "    </tr>\n",
       "    <tr>\n",
       "      <th>145456</th>\n",
       "      <td>41</td>\n",
       "      <td>3.6</td>\n",
       "      <td>25.300000</td>\n",
       "      <td>0.0</td>\n",
       "      <td>5.468232</td>\n",
       "      <td>7.611178</td>\n",
       "      <td>6</td>\n",
       "      <td>22.00000</td>\n",
       "      <td>9</td>\n",
       "      <td>3</td>\n",
       "      <td>...</td>\n",
       "      <td>1023.5</td>\n",
       "      <td>1019.1</td>\n",
       "      <td>4.447461</td>\n",
       "      <td>51.539116</td>\n",
       "      <td>10.9</td>\n",
       "      <td>24.5</td>\n",
       "      <td>0</td>\n",
       "      <td>2017</td>\n",
       "      <td>6</td>\n",
       "      <td>22</td>\n",
       "    </tr>\n",
       "    <tr>\n",
       "      <th>145457</th>\n",
       "      <td>41</td>\n",
       "      <td>5.4</td>\n",
       "      <td>26.900000</td>\n",
       "      <td>0.0</td>\n",
       "      <td>5.468232</td>\n",
       "      <td>7.611178</td>\n",
       "      <td>3</td>\n",
       "      <td>37.00000</td>\n",
       "      <td>9</td>\n",
       "      <td>14</td>\n",
       "      <td>...</td>\n",
       "      <td>1021.0</td>\n",
       "      <td>1016.8</td>\n",
       "      <td>4.447461</td>\n",
       "      <td>51.539116</td>\n",
       "      <td>12.5</td>\n",
       "      <td>26.1</td>\n",
       "      <td>0</td>\n",
       "      <td>2017</td>\n",
       "      <td>6</td>\n",
       "      <td>23</td>\n",
       "    </tr>\n",
       "    <tr>\n",
       "      <th>145458</th>\n",
       "      <td>41</td>\n",
       "      <td>7.8</td>\n",
       "      <td>27.000000</td>\n",
       "      <td>0.0</td>\n",
       "      <td>5.468232</td>\n",
       "      <td>7.611178</td>\n",
       "      <td>9</td>\n",
       "      <td>28.00000</td>\n",
       "      <td>10</td>\n",
       "      <td>3</td>\n",
       "      <td>...</td>\n",
       "      <td>1019.4</td>\n",
       "      <td>1016.5</td>\n",
       "      <td>3.000000</td>\n",
       "      <td>2.000000</td>\n",
       "      <td>15.1</td>\n",
       "      <td>26.0</td>\n",
       "      <td>0</td>\n",
       "      <td>2017</td>\n",
       "      <td>6</td>\n",
       "      <td>24</td>\n",
       "    </tr>\n",
       "    <tr>\n",
       "      <th>145459</th>\n",
       "      <td>41</td>\n",
       "      <td>14.9</td>\n",
       "      <td>23.221348</td>\n",
       "      <td>0.0</td>\n",
       "      <td>5.468232</td>\n",
       "      <td>7.611178</td>\n",
       "      <td>16</td>\n",
       "      <td>40.03523</td>\n",
       "      <td>2</td>\n",
       "      <td>2</td>\n",
       "      <td>...</td>\n",
       "      <td>1020.2</td>\n",
       "      <td>1017.9</td>\n",
       "      <td>8.000000</td>\n",
       "      <td>8.000000</td>\n",
       "      <td>15.0</td>\n",
       "      <td>20.9</td>\n",
       "      <td>0</td>\n",
       "      <td>2017</td>\n",
       "      <td>6</td>\n",
       "      <td>25</td>\n",
       "    </tr>\n",
       "  </tbody>\n",
       "</table>\n",
       "<p>145460 rows × 24 columns</p>\n",
       "</div>"
      ],
      "text/plain": [
       "        Location  MinTemp    MaxTemp  Rainfall  Evaporation  Sunshine  \\\n",
       "0              2     13.4  22.900000       0.6     5.468232  7.611178   \n",
       "1              2      7.4  25.100000       0.0     5.468232  7.611178   \n",
       "2              2     12.9  25.700000       0.0     5.468232  7.611178   \n",
       "3              2      9.2  28.000000       0.0     5.468232  7.611178   \n",
       "4              2     17.5  32.300000       1.0     5.468232  7.611178   \n",
       "...          ...      ...        ...       ...          ...       ...   \n",
       "145455        41      2.8  23.400000       0.0     5.468232  7.611178   \n",
       "145456        41      3.6  25.300000       0.0     5.468232  7.611178   \n",
       "145457        41      5.4  26.900000       0.0     5.468232  7.611178   \n",
       "145458        41      7.8  27.000000       0.0     5.468232  7.611178   \n",
       "145459        41     14.9  23.221348       0.0     5.468232  7.611178   \n",
       "\n",
       "        WindGustDir  WindGustSpeed  WindDir9am  WindDir3pm  ...  Pressure9am  \\\n",
       "0                13       44.00000          13          14  ...       1007.7   \n",
       "1                14       44.00000           6          15  ...       1010.6   \n",
       "2                15       46.00000          13          15  ...       1007.6   \n",
       "3                 4       24.00000           9           0  ...       1017.6   \n",
       "4                13       41.00000           1           7  ...       1010.8   \n",
       "...             ...            ...         ...         ...  ...          ...   \n",
       "145455            0       31.00000           9           1  ...       1024.6   \n",
       "145456            6       22.00000           9           3  ...       1023.5   \n",
       "145457            3       37.00000           9          14  ...       1021.0   \n",
       "145458            9       28.00000          10           3  ...       1019.4   \n",
       "145459           16       40.03523           2           2  ...       1020.2   \n",
       "\n",
       "        Pressure3pm  Cloud9am   Cloud3pm  Temp9am  Temp3pm  RainToday  Year  \\\n",
       "0            1007.1  8.000000  51.539116     16.9     21.8          0  2008   \n",
       "1            1007.8  4.447461  51.539116     17.2     24.3          0  2008   \n",
       "2            1008.7  4.447461   2.000000     21.0     23.2          0  2008   \n",
       "3            1012.8  4.447461  51.539116     18.1     26.5          0  2008   \n",
       "4            1006.0  7.000000   8.000000     17.8     29.7          0  2008   \n",
       "...             ...       ...        ...      ...      ...        ...   ...   \n",
       "145455       1020.3  4.447461  51.539116     10.1     22.4          0  2017   \n",
       "145456       1019.1  4.447461  51.539116     10.9     24.5          0  2017   \n",
       "145457       1016.8  4.447461  51.539116     12.5     26.1          0  2017   \n",
       "145458       1016.5  3.000000   2.000000     15.1     26.0          0  2017   \n",
       "145459       1017.9  8.000000   8.000000     15.0     20.9          0  2017   \n",
       "\n",
       "        Month  Day  \n",
       "0          12    1  \n",
       "1          12    2  \n",
       "2          12    3  \n",
       "3          12    4  \n",
       "4          12    5  \n",
       "...       ...  ...  \n",
       "145455      6   21  \n",
       "145456      6   22  \n",
       "145457      6   23  \n",
       "145458      6   24  \n",
       "145459      6   25  \n",
       "\n",
       "[145460 rows x 24 columns]"
      ]
     },
     "execution_count": 57,
     "metadata": {},
     "output_type": "execute_result"
    }
   ],
   "source": [
    "x"
   ]
  },
  {
   "cell_type": "code",
   "execution_count": 58,
   "id": "76671429",
   "metadata": {},
   "outputs": [
    {
     "data": {
      "text/plain": [
       "0         0\n",
       "1         0\n",
       "2         0\n",
       "3         0\n",
       "4         0\n",
       "         ..\n",
       "145455    0\n",
       "145456    0\n",
       "145457    0\n",
       "145458    0\n",
       "145459    2\n",
       "Name: RainTomorrow, Length: 145460, dtype: int32"
      ]
     },
     "execution_count": 58,
     "metadata": {},
     "output_type": "execute_result"
    }
   ],
   "source": [
    "y"
   ]
  },
  {
   "cell_type": "code",
   "execution_count": 59,
   "id": "c536d3f9",
   "metadata": {},
   "outputs": [],
   "source": [
    "from sklearn.model_selection import train_test_split"
   ]
  },
  {
   "cell_type": "code",
   "execution_count": 60,
   "id": "38c3d988",
   "metadata": {},
   "outputs": [],
   "source": [
    "x_train,x_test,y_train,y_test=train_test_split(x,y,test_size=0.2,random_state=42)"
   ]
  },
  {
   "cell_type": "code",
   "execution_count": 61,
   "id": "075319f0",
   "metadata": {},
   "outputs": [
    {
     "data": {
      "text/plain": [
       "(116368, 24)"
      ]
     },
     "execution_count": 61,
     "metadata": {},
     "output_type": "execute_result"
    }
   ],
   "source": [
    "x_train.shape"
   ]
  },
  {
   "cell_type": "code",
   "execution_count": 62,
   "id": "6baa707e",
   "metadata": {},
   "outputs": [
    {
     "data": {
      "text/plain": [
       "(29092, 24)"
      ]
     },
     "execution_count": 62,
     "metadata": {},
     "output_type": "execute_result"
    }
   ],
   "source": [
    "x_test.shape"
   ]
  },
  {
   "cell_type": "code",
   "execution_count": 63,
   "id": "f7aac690",
   "metadata": {},
   "outputs": [
    {
     "data": {
      "text/plain": [
       "(116368,)"
      ]
     },
     "execution_count": 63,
     "metadata": {},
     "output_type": "execute_result"
    }
   ],
   "source": [
    "y_train.shape"
   ]
  },
  {
   "cell_type": "code",
   "execution_count": 64,
   "id": "d669d590",
   "metadata": {},
   "outputs": [
    {
     "data": {
      "text/plain": [
       "(29092,)"
      ]
     },
     "execution_count": 64,
     "metadata": {},
     "output_type": "execute_result"
    }
   ],
   "source": [
    "y_test.shape"
   ]
  },
  {
   "cell_type": "code",
   "execution_count": 65,
   "id": "52ec4903",
   "metadata": {},
   "outputs": [],
   "source": [
    "# feature scalling"
   ]
  },
  {
   "cell_type": "code",
   "execution_count": 66,
   "id": "9ce71828",
   "metadata": {},
   "outputs": [],
   "source": [
    "from sklearn.preprocessing import StandardScaler"
   ]
  },
  {
   "cell_type": "code",
   "execution_count": 67,
   "id": "50035e44",
   "metadata": {},
   "outputs": [],
   "source": [
    "ss=StandardScaler()"
   ]
  },
  {
   "cell_type": "code",
   "execution_count": 68,
   "id": "802f1d67",
   "metadata": {},
   "outputs": [
    {
     "data": {
      "text/plain": [
       "StandardScaler()"
      ]
     },
     "execution_count": 68,
     "metadata": {},
     "output_type": "execute_result"
    }
   ],
   "source": [
    "ss"
   ]
  },
  {
   "cell_type": "code",
   "execution_count": 69,
   "id": "a7d92504",
   "metadata": {},
   "outputs": [],
   "source": [
    "x_train=ss.fit_transform(x_train)\n",
    "x_test=ss.transform(x_test)"
   ]
  },
  {
   "cell_type": "code",
   "execution_count": 70,
   "id": "3b1ac4f8",
   "metadata": {},
   "outputs": [],
   "source": [
    "from sklearn.linear_model import LinearRegression"
   ]
  },
  {
   "cell_type": "code",
   "execution_count": 71,
   "id": "2dd3dcda",
   "metadata": {},
   "outputs": [],
   "source": [
    "lr=LinearRegression()"
   ]
  },
  {
   "cell_type": "code",
   "execution_count": 72,
   "id": "f3744e96",
   "metadata": {},
   "outputs": [
    {
     "data": {
      "text/plain": [
       "LinearRegression()"
      ]
     },
     "execution_count": 72,
     "metadata": {},
     "output_type": "execute_result"
    }
   ],
   "source": [
    "lr"
   ]
  },
  {
   "cell_type": "code",
   "execution_count": 73,
   "id": "19cdb131",
   "metadata": {},
   "outputs": [
    {
     "data": {
      "text/plain": [
       "LinearRegression()"
      ]
     },
     "execution_count": 73,
     "metadata": {},
     "output_type": "execute_result"
    }
   ],
   "source": [
    "lr.fit(x_train,y_train)"
   ]
  },
  {
   "cell_type": "code",
   "execution_count": 74,
   "id": "c828d5c8",
   "metadata": {},
   "outputs": [],
   "source": [
    "y_pred=lr.predict(x_test)"
   ]
  },
  {
   "cell_type": "code",
   "execution_count": 75,
   "id": "2c02f0cd",
   "metadata": {},
   "outputs": [
    {
     "data": {
      "text/plain": [
       "array([0.62821303, 0.00183104, 0.97066538, ..., 0.22759054, 0.32510282,\n",
       "       0.2446911 ])"
      ]
     },
     "execution_count": 75,
     "metadata": {},
     "output_type": "execute_result"
    }
   ],
   "source": [
    "y_pred"
   ]
  },
  {
   "cell_type": "code",
   "execution_count": 76,
   "id": "dfd52ef6",
   "metadata": {},
   "outputs": [],
   "source": [
    "from sklearn.metrics import classification_report,confusion_matrix"
   ]
  },
  {
   "cell_type": "code",
   "execution_count": 77,
   "id": "f26165e0",
   "metadata": {},
   "outputs": [],
   "source": [
    "from sklearn.metrics import accuracy_score"
   ]
  },
  {
   "cell_type": "code",
   "execution_count": 78,
   "id": "5150c319",
   "metadata": {},
   "outputs": [],
   "source": [
    "#accuracy_score(y_pred,y_test)"
   ]
  },
  {
   "cell_type": "code",
   "execution_count": 79,
   "id": "59d61939",
   "metadata": {},
   "outputs": [],
   "source": [
    "#from sklearn.metrics import confusion_matrix\n",
    "#confusion_matrix(y_test, y_pred)"
   ]
  },
  {
   "cell_type": "code",
   "execution_count": 80,
   "id": "0387ab25",
   "metadata": {},
   "outputs": [],
   "source": [
    "from sklearn.metrics import r2_score"
   ]
  },
  {
   "cell_type": "code",
   "execution_count": 81,
   "id": "74e72893",
   "metadata": {},
   "outputs": [],
   "source": [
    "#accuracy_score(y_pred,y_test)"
   ]
  },
  {
   "cell_type": "code",
   "execution_count": 82,
   "id": "f05d616c",
   "metadata": {},
   "outputs": [
    {
     "data": {
      "text/plain": [
       "-1.3505147155336763"
      ]
     },
     "execution_count": 82,
     "metadata": {},
     "output_type": "execute_result"
    }
   ],
   "source": [
    "r2_score(y_pred,y_test)"
   ]
  },
  {
   "cell_type": "code",
   "execution_count": 83,
   "id": "5104d8ff",
   "metadata": {},
   "outputs": [],
   "source": [
    "from sklearn.metrics import mean_squared_error"
   ]
  },
  {
   "cell_type": "code",
   "execution_count": 84,
   "id": "6d880535",
   "metadata": {},
   "outputs": [
    {
     "data": {
      "text/plain": [
       "0.1690522815888209"
      ]
     },
     "execution_count": 84,
     "metadata": {},
     "output_type": "execute_result"
    }
   ],
   "source": [
    "mean_squared_error(y_test,y_pred)"
   ]
  },
  {
   "cell_type": "code",
   "execution_count": 85,
   "id": "c5bfb451",
   "metadata": {},
   "outputs": [],
   "source": [
    "from sklearn.linear_model import LogisticRegression"
   ]
  },
  {
   "cell_type": "code",
   "execution_count": 86,
   "id": "c882e55d",
   "metadata": {},
   "outputs": [],
   "source": [
    "lgr= LogisticRegression()"
   ]
  },
  {
   "cell_type": "code",
   "execution_count": 87,
   "id": "cf6e53ee",
   "metadata": {},
   "outputs": [
    {
     "data": {
      "text/plain": [
       "LogisticRegression()"
      ]
     },
     "execution_count": 87,
     "metadata": {},
     "output_type": "execute_result"
    }
   ],
   "source": [
    "lgr"
   ]
  },
  {
   "cell_type": "code",
   "execution_count": 88,
   "id": "6d07fd61",
   "metadata": {},
   "outputs": [
    {
     "data": {
      "text/plain": [
       "LogisticRegression()"
      ]
     },
     "execution_count": 88,
     "metadata": {},
     "output_type": "execute_result"
    }
   ],
   "source": [
    "lgr.fit(x_train,y_train)"
   ]
  },
  {
   "cell_type": "code",
   "execution_count": 89,
   "id": "c331ffa9",
   "metadata": {},
   "outputs": [],
   "source": [
    "y_pred=lgr.predict(x_test)"
   ]
  },
  {
   "cell_type": "code",
   "execution_count": 90,
   "id": "9284ae59",
   "metadata": {},
   "outputs": [
    {
     "data": {
      "text/plain": [
       "array([1, 0, 2, ..., 0, 0, 0])"
      ]
     },
     "execution_count": 90,
     "metadata": {},
     "output_type": "execute_result"
    }
   ],
   "source": [
    "y_pred"
   ]
  },
  {
   "cell_type": "code",
   "execution_count": 91,
   "id": "e7e699b7",
   "metadata": {},
   "outputs": [
    {
     "data": {
      "text/plain": [
       "0.8290595352674275"
      ]
     },
     "execution_count": 91,
     "metadata": {},
     "output_type": "execute_result"
    }
   ],
   "source": [
    "accuracy_score(y_pred,y_test)"
   ]
  },
  {
   "cell_type": "code",
   "execution_count": 92,
   "id": "b2c213e8",
   "metadata": {},
   "outputs": [
    {
     "data": {
      "text/plain": [
       "array([[20748,  1193,    71],\n",
       "       [ 3260,  3096,    64],\n",
       "       [  304,    81,   275]], dtype=int64)"
      ]
     },
     "execution_count": 92,
     "metadata": {},
     "output_type": "execute_result"
    }
   ],
   "source": [
    "confusion_matrix(y_test, y_pred)"
   ]
  },
  {
   "cell_type": "code",
   "execution_count": 93,
   "id": "dad948f3",
   "metadata": {},
   "outputs": [
    {
     "data": {
      "text/plain": [
       "'              precision    recall  f1-score   support\\n\\n           0       0.94      0.85      0.90     24312\\n           1       0.48      0.71      0.57      4370\\n           2       0.42      0.67      0.51       410\\n\\n    accuracy                           0.83     29092\\n   macro avg       0.61      0.74      0.66     29092\\nweighted avg       0.87      0.83      0.84     29092\\n'"
      ]
     },
     "execution_count": 93,
     "metadata": {},
     "output_type": "execute_result"
    }
   ],
   "source": [
    "classification_report(y_pred,y_test)"
   ]
  },
  {
   "cell_type": "code",
   "execution_count": 94,
   "id": "99b19fba",
   "metadata": {},
   "outputs": [
    {
     "data": {
      "text/plain": [
       "KNeighborsClassifier()"
      ]
     },
     "execution_count": 94,
     "metadata": {},
     "output_type": "execute_result"
    }
   ],
   "source": [
    "from sklearn.neighbors import KNeighborsClassifier  \n",
    "classifier= KNeighborsClassifier(n_neighbors=5, metric='minkowski', p=2 )  \n",
    "classifier.fit(x_train, y_train)  "
   ]
  },
  {
   "cell_type": "code",
   "execution_count": 95,
   "id": "5282730e",
   "metadata": {},
   "outputs": [],
   "source": [
    "y_pred=classifier.predict(x_test)"
   ]
  },
  {
   "cell_type": "code",
   "execution_count": 96,
   "id": "04d7f481",
   "metadata": {},
   "outputs": [
    {
     "data": {
      "text/plain": [
       "array([1, 0, 0, ..., 0, 1, 0])"
      ]
     },
     "execution_count": 96,
     "metadata": {},
     "output_type": "execute_result"
    }
   ],
   "source": [
    "y_pred"
   ]
  },
  {
   "cell_type": "code",
   "execution_count": 97,
   "id": "2abd22fb",
   "metadata": {},
   "outputs": [
    {
     "data": {
      "text/plain": [
       "0.8206036023649114"
      ]
     },
     "execution_count": 97,
     "metadata": {},
     "output_type": "execute_result"
    }
   ],
   "source": [
    "accuracy_score(y_pred,y_test)"
   ]
  },
  {
   "cell_type": "code",
   "execution_count": 98,
   "id": "53dad146",
   "metadata": {},
   "outputs": [],
   "source": [
    "from sklearn.tree import DecisionTreeRegressor"
   ]
  },
  {
   "cell_type": "code",
   "execution_count": 99,
   "id": "92054982",
   "metadata": {},
   "outputs": [],
   "source": [
    "dtr=DecisionTreeRegressor()"
   ]
  },
  {
   "cell_type": "code",
   "execution_count": 100,
   "id": "bd0defb8",
   "metadata": {},
   "outputs": [
    {
     "data": {
      "text/plain": [
       "DecisionTreeRegressor()"
      ]
     },
     "execution_count": 100,
     "metadata": {},
     "output_type": "execute_result"
    }
   ],
   "source": [
    "dtr.fit(x_train,y_train)"
   ]
  },
  {
   "cell_type": "code",
   "execution_count": 101,
   "id": "456eff34",
   "metadata": {},
   "outputs": [],
   "source": [
    "y_pred=dtr.predict(x_test)"
   ]
  },
  {
   "cell_type": "code",
   "execution_count": 102,
   "id": "ba57e4db",
   "metadata": {},
   "outputs": [
    {
     "data": {
      "text/plain": [
       "array([0., 0., 1., ..., 1., 1., 0.])"
      ]
     },
     "execution_count": 102,
     "metadata": {},
     "output_type": "execute_result"
    }
   ],
   "source": [
    "y_pred"
   ]
  },
  {
   "cell_type": "code",
   "execution_count": 103,
   "id": "4e902c55",
   "metadata": {},
   "outputs": [
    {
     "data": {
      "text/plain": [
       "0.7713460745222054"
      ]
     },
     "execution_count": 103,
     "metadata": {},
     "output_type": "execute_result"
    }
   ],
   "source": [
    "accuracy_score(y_pred,y_test)"
   ]
  },
  {
   "cell_type": "code",
   "execution_count": 104,
   "id": "179c495c",
   "metadata": {},
   "outputs": [],
   "source": [
    "#from sklearn.svm import SVR"
   ]
  },
  {
   "cell_type": "code",
   "execution_count": 105,
   "id": "14bc1753",
   "metadata": {},
   "outputs": [],
   "source": [
    "#svr=SVR()"
   ]
  },
  {
   "cell_type": "code",
   "execution_count": 106,
   "id": "4d8d22cb",
   "metadata": {},
   "outputs": [],
   "source": [
    "#svr"
   ]
  },
  {
   "cell_type": "code",
   "execution_count": 107,
   "id": "ed51b853",
   "metadata": {},
   "outputs": [],
   "source": [
    "#svr.fit(x_train,y_train)"
   ]
  },
  {
   "cell_type": "code",
   "execution_count": 108,
   "id": "c70a2cf7",
   "metadata": {},
   "outputs": [],
   "source": [
    "#y_pred-svr.predict(x_test)"
   ]
  },
  {
   "cell_type": "code",
   "execution_count": 109,
   "id": "09b4ea79",
   "metadata": {},
   "outputs": [],
   "source": [
    "#accuracy_score(y_pred,y_test)"
   ]
  },
  {
   "cell_type": "code",
   "execution_count": 110,
   "id": "da293a12",
   "metadata": {},
   "outputs": [],
   "source": [
    "from sklearn.svm import SVC"
   ]
  },
  {
   "cell_type": "code",
   "execution_count": 111,
   "id": "38737e2e",
   "metadata": {},
   "outputs": [],
   "source": [
    "svc=SVC()"
   ]
  },
  {
   "cell_type": "code",
   "execution_count": 112,
   "id": "1675606a",
   "metadata": {},
   "outputs": [
    {
     "data": {
      "text/plain": [
       "SVC()"
      ]
     },
     "execution_count": 112,
     "metadata": {},
     "output_type": "execute_result"
    }
   ],
   "source": [
    "svc"
   ]
  },
  {
   "cell_type": "code",
   "execution_count": 113,
   "id": "05c7e1d8",
   "metadata": {},
   "outputs": [
    {
     "data": {
      "text/plain": [
       "SVC()"
      ]
     },
     "execution_count": 113,
     "metadata": {},
     "output_type": "execute_result"
    }
   ],
   "source": [
    "svc.fit(x_train,y_train)"
   ]
  },
  {
   "cell_type": "code",
   "execution_count": 114,
   "id": "13798b0b",
   "metadata": {},
   "outputs": [],
   "source": [
    "y_pred=svc.predict(x_test)"
   ]
  },
  {
   "cell_type": "code",
   "execution_count": 115,
   "id": "a944ca18",
   "metadata": {},
   "outputs": [
    {
     "data": {
      "text/plain": [
       "array([1, 0, 2, ..., 0, 0, 0])"
      ]
     },
     "execution_count": 115,
     "metadata": {},
     "output_type": "execute_result"
    }
   ],
   "source": [
    "y_pred"
   ]
  },
  {
   "cell_type": "code",
   "execution_count": 116,
   "id": "e4ee21e9",
   "metadata": {},
   "outputs": [
    {
     "data": {
      "text/plain": [
       "0.8399216279389523"
      ]
     },
     "execution_count": 116,
     "metadata": {},
     "output_type": "execute_result"
    }
   ],
   "source": [
    "accuracy_score(y_pred,y_test)"
   ]
  }
 ],
 "metadata": {
  "kernelspec": {
   "display_name": "Python 3 (ipykernel)",
   "language": "python",
   "name": "python3"
  },
  "language_info": {
   "codemirror_mode": {
    "name": "ipython",
    "version": 3
   },
   "file_extension": ".py",
   "mimetype": "text/x-python",
   "name": "python",
   "nbconvert_exporter": "python",
   "pygments_lexer": "ipython3",
   "version": "3.9.12"
  }
 },
 "nbformat": 4,
 "nbformat_minor": 5
}
